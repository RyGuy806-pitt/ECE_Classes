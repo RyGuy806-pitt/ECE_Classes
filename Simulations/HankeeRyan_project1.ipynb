{
 "cells": [
  {
   "cell_type": "markdown",
   "id": "96e8fc90",
   "metadata": {},
   "source": [
    "<h1>Part 1<h1>"
   ]
  },
  {
   "cell_type": "code",
   "execution_count": 1,
   "id": "e9c45726",
   "metadata": {},
   "outputs": [
    {
     "data": {
      "text/html": [
       "<div id=\"glowscript\" class=\"glowscript\"></div>"
      ],
      "text/plain": [
       "<IPython.core.display.HTML object>"
      ]
     },
     "metadata": {},
     "output_type": "display_data"
    },
    {
     "data": {
      "application/javascript": [
       "if (typeof Jupyter !== \"undefined\") { window.__context = { glowscript_container: $(\"#glowscript\").removeAttr(\"id\")};}else{ element.textContent = ' ';}"
      ],
      "text/plain": [
       "<IPython.core.display.Javascript object>"
      ]
     },
     "metadata": {},
     "output_type": "display_data"
    },
    {
     "data": {
      "text/html": [
       "<div id=\"glowscript\" class=\"glowscript\"></div>"
      ],
      "text/plain": [
       "<IPython.core.display.HTML object>"
      ]
     },
     "metadata": {},
     "output_type": "display_data"
    },
    {
     "data": {
      "application/javascript": [
       "if (typeof Jupyter !== \"undefined\") { window.__context = { glowscript_container: $(\"#glowscript\").removeAttr(\"id\")};}else{ element.textContent = ' ';}"
      ],
      "text/plain": [
       "<IPython.core.display.Javascript object>"
      ]
     },
     "metadata": {},
     "output_type": "display_data"
    }
   ],
   "source": [
    "  from vpython import * \n",
    "  scene = canvas()"
   ]
  },
  {
   "cell_type": "code",
   "execution_count": 2,
   "id": "e1cde7dc",
   "metadata": {},
   "outputs": [
    {
     "data": {
      "application/javascript": [
       "if (typeof Jupyter !== \"undefined\") {require.undef(\"nbextensions/vpython_libraries/glow.min\");}else{element.textContent = ' ';}"
      ],
      "text/plain": [
       "<IPython.core.display.Javascript object>"
      ]
     },
     "metadata": {},
     "output_type": "display_data"
    },
    {
     "data": {
      "application/javascript": [
       "if (typeof Jupyter !== \"undefined\") {require.undef(\"nbextensions/vpython_libraries/glowcomm\");}else{element.textContent = ' ';}"
      ],
      "text/plain": [
       "<IPython.core.display.Javascript object>"
      ]
     },
     "metadata": {},
     "output_type": "display_data"
    },
    {
     "data": {
      "application/javascript": [
       "if (typeof Jupyter !== \"undefined\") {require.undef(\"nbextensions/vpython_libraries/jquery-ui.custom.min\");}else{element.textContent = ' ';}"
      ],
      "text/plain": [
       "<IPython.core.display.Javascript object>"
      ]
     },
     "metadata": {},
     "output_type": "display_data"
    },
    {
     "data": {
      "application/javascript": [
       "if (typeof Jupyter !== \"undefined\") {require([\"nbextensions/vpython_libraries/glow.min\"], function(){console.log(\"GLOW LOADED\");});}else{element.textContent = ' ';}"
      ],
      "text/plain": [
       "<IPython.core.display.Javascript object>"
      ]
     },
     "metadata": {},
     "output_type": "display_data"
    },
    {
     "data": {
      "application/javascript": [
       "if (typeof Jupyter !== \"undefined\") {require([\"nbextensions/vpython_libraries/glowcomm\"], function(){console.log(\"GLOWCOMM LOADED\");});}else{element.textContent = ' ';}"
      ],
      "text/plain": [
       "<IPython.core.display.Javascript object>"
      ]
     },
     "metadata": {},
     "output_type": "display_data"
    },
    {
     "data": {
      "application/javascript": [
       "if (typeof Jupyter !== \"undefined\") {require([\"nbextensions/vpython_libraries/jquery-ui.custom.min\"], function(){console.log(\"JQUERY LOADED\");});}else{element.textContent = ' ';}"
      ],
      "text/plain": [
       "<IPython.core.display.Javascript object>"
      ]
     },
     "metadata": {},
     "output_type": "display_data"
    }
   ],
   "source": [
    "#Part 1\n",
    "ball = sphere(pos=vector(0,10,0), radius=0.5, color=color.cyan, make_trail = True) \n",
    "wallB = box(pos=vector(0, -6, 0), size=vector(12,.2,12), color=color.green)\n",
    "ball.velocity = vector(0, 0, 0)\n",
    "totalTime = 0 \n",
    "deltaTime = 0.01 #need an initial difference\n",
    "gravity = 9.81 #gravity constant\n",
    "while totalTime < 1.8: \n",
    "    rate(100)\n",
    "    ball.velocity.y = ball.velocity.y - gravity*deltaTime \n",
    "    ball.pos.y = ball.pos.y + ball.velocity.y*deltaTime - .5*gravity*deltaTime**2\n",
    "    totalTime = totalTime + deltaTime"
   ]
  },
  {
   "cell_type": "markdown",
   "id": "2eb2fe0f",
   "metadata": {},
   "source": [
    "The way I verified my fall time is by checking taking the total difference in y, in this case 10 - -6 = 16, and using that number in the position equation to find the total amount of time is should take to reach the ground. So with the equation -6 = 10 + .5 * 9.81 * t^2, we identify it should take ~1.8s to reach the floor, which is what occurs in the simulation"
   ]
  },
  {
   "cell_type": "markdown",
   "id": "b601aab6",
   "metadata": {},
   "source": [
    "<h1>Part 2<h1>"
   ]
  },
  {
   "cell_type": "code",
   "execution_count": 3,
   "id": "85432c1a",
   "metadata": {},
   "outputs": [
    {
     "data": {
      "text/html": [
       "<div id=\"glowscript\" class=\"glowscript\"></div>"
      ],
      "text/plain": [
       "<IPython.core.display.HTML object>"
      ]
     },
     "metadata": {},
     "output_type": "display_data"
    },
    {
     "data": {
      "application/javascript": [
       "if (typeof Jupyter !== \"undefined\") { window.__context = { glowscript_container: $(\"#glowscript\").removeAttr(\"id\")};}else{ element.textContent = ' ';}"
      ],
      "text/plain": [
       "<IPython.core.display.Javascript object>"
      ]
     },
     "metadata": {},
     "output_type": "display_data"
    }
   ],
   "source": [
    "  from vpython import * \n",
    "  scene = canvas()"
   ]
  },
  {
   "cell_type": "code",
   "execution_count": 4,
   "id": "268f5f3b",
   "metadata": {
    "scrolled": true
   },
   "outputs": [],
   "source": [
    "#Part 2\n",
    "Radius = 1\n",
    "wallB = box(pos = vector(0,0,0),size=vector(12,.2,12), color=color.green)\n",
    "height = 6\n",
    "gravity = 9.81\n",
    "y_0= 6\n",
    "vy_0 = 0\n",
    "ball = sphere(pos=vector(0,y_0,0), radius=Radius, color=color.blue, make_trail=True)\n",
    "ball.velocity = vector(0,vy_0, 0)\n",
    "totalTime = 0\n",
    "deltaTime = 0.01\n",
    "periodicTime = 0\n",
    "while totalTime< 2:\n",
    "    rate(100)\n",
    "    ball.pos.y = y_0 + vy_0*periodicTime - .5*gravity*periodicTime**2\n",
    "    ball.velocity.y = vy_0 - gravity*periodicTime\n",
    "    \n",
    "    if ball.pos.y<=0:\n",
    "        ball.velocity.y = -ball.velocity.y \n",
    "        vy_0 = ball.velocity.y\n",
    "        y_0 = 0\n",
    "        periodicTime = 0\n",
    "    totalTime = totalTime + deltaTime\n",
    "    periodicTime = periodicTime + deltaTime"
   ]
  },
  {
   "cell_type": "markdown",
   "id": "a70b69e6",
   "metadata": {},
   "source": [
    "The ball has a minimized mass and is in an ideal environment where it will not lose any energy, so it will continually bounce to the same height."
   ]
  },
  {
   "cell_type": "markdown",
   "id": "d6bb21c1",
   "metadata": {},
   "source": [
    "<h1>Part 3<h1>"
   ]
  },
  {
   "cell_type": "code",
   "execution_count": 5,
   "id": "8b37a45a",
   "metadata": {},
   "outputs": [
    {
     "data": {
      "text/html": [
       "<div id=\"glowscript\" class=\"glowscript\"></div>"
      ],
      "text/plain": [
       "<IPython.core.display.HTML object>"
      ]
     },
     "metadata": {},
     "output_type": "display_data"
    },
    {
     "data": {
      "application/javascript": [
       "if (typeof Jupyter !== \"undefined\") { window.__context = { glowscript_container: $(\"#glowscript\").removeAttr(\"id\")};}else{ element.textContent = ' ';}"
      ],
      "text/plain": [
       "<IPython.core.display.Javascript object>"
      ]
     },
     "metadata": {},
     "output_type": "display_data"
    }
   ],
   "source": [
    "  from vpython import * \n",
    "  scene = canvas()"
   ]
  },
  {
   "cell_type": "code",
   "execution_count": 6,
   "id": "55accd1d",
   "metadata": {},
   "outputs": [
    {
     "name": "stdout",
     "output_type": "stream",
     "text": [
      "14.199999999999966\n",
      "14.210000000000038\n",
      "28.20000000000013\n",
      "21.350000000000065\n"
     ]
    }
   ],
   "source": [
    "#Part 3\n",
    "ball1 = sphere(pos=vector(0,0,0), radius=0.5, color=color.cyan, make_trail = True) \n",
    "ball2 = sphere(pos=vector(0,0,0), radius=0.5, color=color.cyan, make_trail = True)\n",
    "ball3 = sphere(pos=vector(0,0,0), radius=0.5, color=color.cyan, make_trail = True)\n",
    "wallB = box(pos=vector(0, 0, 0), size=vector(12,.2,12), color=color.green)\n",
    "cannon = cylinder(pos=vector(0,0,0), size = vector(3, 1, .75), color=color.white)\n",
    "cannon.rotate(angle = -75, axis=vector(0,0,1))\n",
    "ball1.velocity = vector(10, 7, 0)\n",
    "ball2.velocity = vector(7, 10, 0)\n",
    "ball3.velocity = vector(7, 15, 0)\n",
    "totalTime = 0 \n",
    "deltaTime = 0.01 #need an initial difference\n",
    "gravity = -9.81 #gravity constant\n",
    "while totalTime < 4: \n",
    "    rate(50)\n",
    "    ball1.velocity.y = ball1.velocity.y + gravity*deltaTime\n",
    "    ball1.velocity.x = ball1.velocity.x\n",
    "    ball1.pos.y = ball1.pos.y + ball1.velocity.y*deltaTime\n",
    "    ball1.pos.x = ball1.pos.x + ball1.velocity.x*deltaTime\n",
    "    ball2.velocity.y = ball2.velocity.y + gravity*deltaTime\n",
    "    ball2.velocity.x = ball2.velocity.x\n",
    "    ball2.pos.y = ball2.pos.y + ball2.velocity.y*deltaTime\n",
    "    ball2.pos.x = ball2.pos.x + ball2.velocity.x*deltaTime\n",
    "    ball3.velocity.y = ball3.velocity.y + gravity*deltaTime\n",
    "    ball3.velocity.x = ball3.velocity.x\n",
    "    ball3.pos.y = ball3.pos.y + ball3.velocity.y*deltaTime\n",
    "    ball3.pos.x = ball3.pos.x + ball3.velocity.x*deltaTime\n",
    "    if ball1.pos.y < wallB.pos.y:\n",
    "        ball1.velocity.y = -ball1.velocity.y\n",
    "        print(ball1.pos.x)\n",
    "        \n",
    "    if ball2.pos.y < wallB.pos.y:\n",
    "        ball2.velocity.y = -ball2.velocity.y\n",
    "        print(ball2.pos.x)\n",
    "        \n",
    "    if ball3.pos.y < wallB.pos.y:\n",
    "        ball3.velocity.y = -ball3.velocity.y\n",
    "        print(ball3.pos.x)\n",
    "    \n",
    "    totalTime = totalTime + deltaTime"
   ]
  },
  {
   "cell_type": "markdown",
   "id": "1ff8daf7",
   "metadata": {},
   "source": [
    "By giving the two different balls the same vector values, but swapped in the x and y values, the resulting location of the ball upon contact with the ground should be the same. It can also be seen, for instance by changing one of those values to 15 for only one ball, the ball will fall at a different location."
   ]
  },
  {
   "cell_type": "markdown",
   "id": "11f64cf5",
   "metadata": {},
   "source": [
    "<h1>Part 4<h1>"
   ]
  },
  {
   "cell_type": "code",
   "execution_count": 7,
   "id": "6eafef02",
   "metadata": {},
   "outputs": [
    {
     "data": {
      "text/html": [
       "<div id=\"glowscript\" class=\"glowscript\"></div>"
      ],
      "text/plain": [
       "<IPython.core.display.HTML object>"
      ]
     },
     "metadata": {},
     "output_type": "display_data"
    },
    {
     "data": {
      "application/javascript": [
       "if (typeof Jupyter !== \"undefined\") { window.__context = { glowscript_container: $(\"#glowscript\").removeAttr(\"id\")};}else{ element.textContent = ' ';}"
      ],
      "text/plain": [
       "<IPython.core.display.Javascript object>"
      ]
     },
     "metadata": {},
     "output_type": "display_data"
    }
   ],
   "source": [
    "  from vpython import * \n",
    "  scene = canvas()"
   ]
  },
  {
   "cell_type": "code",
   "execution_count": 8,
   "id": "5fc67ba2",
   "metadata": {},
   "outputs": [
    {
     "name": "stdout",
     "output_type": "stream",
     "text": [
      "-9.908100000000006\n",
      "-14.02830000000001\n",
      "-17.167500000000015\n",
      "-19.81620000000001\n",
      "-15.463960635015225\n",
      "-10.006200000000002\n"
     ]
    }
   ],
   "source": [
    "#Part 4\n",
    "\n",
    "g1 = graph(xtitle=\"t [s]\", ytitle=\"v1 [m/s]\",width=500, height=150)\n",
    "f1 = gcurve(color=color.blue)\n",
    "g2 = graph(xtitle=\"t [s]\", ytitle=\"v2 [m/s]\",width=500, height=150)\n",
    "f2 = gcurve(color=color.green)\n",
    "g3 = graph(xtitle=\"t [s]\", ytitle=\"v3 [m/s]\",width=500, height=150)\n",
    "f3 = gcurve(color=color.red)\n",
    "g4 = graph(xtitle=\"t [s]\", ytitle=\"v4 [m/s]\",width=500, height=150)\n",
    "f4 = gcurve(color=color.yellow)\n",
    "f5 = gcurve(color=color.blue)\n",
    "\n",
    "wallB = box(pos = vector(0,0,0),size=vector(12,.2,12), color=color.green)\n",
    "\n",
    "height1 = 5\n",
    "height2 = 10\n",
    "height3 = 15\n",
    "height4 = 20\n",
    "height5 = 20\n",
    "gravity = 9.81\n",
    "\n",
    "y_01 = height1\n",
    "y_02 = height2\n",
    "y_03 = height3\n",
    "y_04 = height4\n",
    "y_05 = height5\n",
    "vy_01 = 0\n",
    "vy_02 = 0\n",
    "vy_03 = 0\n",
    "vy_04 = 0\n",
    "vy_05 = 0\n",
    "\n",
    "ball1 = sphere(pos=vector(0,y_01,0), radius=.5, color=color.blue) \n",
    "ball2 = sphere(pos=vector(1,y_02,0), radius=.5, color=color.green)\n",
    "ball3 = sphere(pos=vector(2,y_03,0), radius=.5, color=color.red)\n",
    "ball4 = sphere(pos=vector(3,y_04,0), radius=.5, color=color.yellow)\n",
    "ball5 = sphere(pos=vector(4,y_05,0), radius=.5, color=color.yellow)\n",
    "\n",
    "ball1.velocity = vector(0,vy_01, 0)\n",
    "ball2.velocity = vector(0,vy_02, 0)\n",
    "ball3.velocity = vector(0,vy_03, 0)\n",
    "ball4.velocity = vector(0,vy_04, 0)\n",
    "ball5.velocity = vector(0,vy_05, 0)\n",
    "\n",
    "totalTime = 0\n",
    "deltaTime = 0.01\n",
    "periodicTime1 = 0\n",
    "periodicTime2 = 0\n",
    "periodicTime3 = 0\n",
    "periodicTime4 = 0\n",
    "periodicTime5 = 0\n",
    "while totalTime< 4:\n",
    "    rate(100)\n",
    "    ball1.pos.y = y_01 + vy_01*periodicTime1 - .5*gravity*periodicTime1**2\n",
    "    ball1.velocity.y = vy_01 - gravity*periodicTime1\n",
    "    ball2.pos.y = y_02 + vy_02*periodicTime2 - .5*gravity*periodicTime2**2\n",
    "    ball2.velocity.y = vy_02 - gravity*periodicTime2\n",
    "    ball3.pos.y = y_03 + vy_03*periodicTime3 - .5*gravity*periodicTime3**2\n",
    "    ball3.velocity.y = vy_03 - gravity*periodicTime3\n",
    "    ball4.pos.y = y_04 + vy_04*periodicTime4 - .5*gravity*periodicTime4**2\n",
    "    ball4.velocity.y = vy_04 - gravity*periodicTime4\n",
    "    ball5.pos.y = y_05 + vy_05*periodicTime5 - .5*gravity*periodicTime5**2\n",
    "    if ball5.velocity.y <= 0:#for when the ball is moving down, force must be up\n",
    "        ball5.velocity.y = vy_05 - gravity*periodicTime5 + sqrt(ball5.velocity.y*ball5.velocity.y*.08)\n",
    "    else: #for when the ball is moving up, the force must be down\n",
    "        ball5.velocity.y = vy_05 - gravity*periodicTime5 - sqrt(ball5.velocity.y*ball5.velocity.y*.08)\n",
    "        \n",
    "    if ball1.pos.y<=0:\n",
    "        print(ball1.velocity.y)\n",
    "        ball1.velocity.y = -ball1.velocity.y \n",
    "        vy_01 = ball1.velocity.y\n",
    "        y_01 = 0\n",
    "        periodicTime1 = 0\n",
    "        \n",
    "    if ball2.pos.y<=0:\n",
    "        print(ball2.velocity.y)\n",
    "        ball2.velocity.y = -ball2.velocity.y \n",
    "        vy_02 = ball2.velocity.y\n",
    "        y_02 = 0\n",
    "        periodicTime2 = 0\n",
    "        \n",
    "    if ball3.pos.y<=0:\n",
    "        print(ball3.velocity.y)\n",
    "        ball3.velocity.y = -ball3.velocity.y \n",
    "        vy_03 = ball3.velocity.y\n",
    "        y_03 = 0\n",
    "        periodicTime3 = 0\n",
    "        \n",
    "    if ball4.pos.y<=0:\n",
    "        print(ball4.velocity.y)\n",
    "        ball4.velocity.y = -ball4.velocity.y \n",
    "        vy_04 = ball4.velocity.y\n",
    "        y_04 = 0\n",
    "        periodicTime4 = 0\n",
    "        \n",
    "    if ball5.pos.y<=0:\n",
    "        print(ball5.velocity.y)\n",
    "        ball5.velocity.y = -ball5.velocity.y \n",
    "        vy_05 = ball5.velocity.y\n",
    "        y_05 = 0\n",
    "        periodicTime5 = 0\n",
    "        \n",
    "    f1.plot(totalTime, ball1.velocity.y)\n",
    "    f2.plot(totalTime, ball2.velocity.y)\n",
    "    f3.plot(totalTime, ball3.velocity.y)\n",
    "    f4.plot(totalTime, ball4.velocity.y)\n",
    "    f5.plot(totalTime, ball5.velocity.y)\n",
    "    totalTime = totalTime + deltaTime\n",
    "    periodicTime1 = periodicTime1 + deltaTime\n",
    "    periodicTime2 = periodicTime2 + deltaTime\n",
    "    periodicTime3 = periodicTime3 + deltaTime\n",
    "    periodicTime4 = periodicTime4 + deltaTime\n",
    "    periodicTime5 = periodicTime5 + deltaTime"
   ]
  },
  {
   "cell_type": "markdown",
   "id": "bdcb590b",
   "metadata": {},
   "source": [
    "Sources: https://www.geeksforgeeks.org/air-resistance-formula/#:~:text=The%20formula%20for%20air%20resistance%20is%20given%20as,the%20force%20constant%20v%20depicts%20the%20object%E2%80%99s%20velocity."
   ]
  },
  {
   "cell_type": "markdown",
   "id": "1fdf78b4",
   "metadata": {},
   "source": [
    "As the ball gets higher, the longer it accelerates and the higher its maximum velocity is, however once air resistance is added, the maximum velocity decreases because there is another force acting in the opposite direction of the ball. The results of the maximum velocities verify this is working correctly, as this should not be a linear relationship in terms of the differences, even though the height differences are linear. the maximum velocities also consistently increase as the height increases which is correct."
   ]
  },
  {
   "cell_type": "markdown",
   "id": "e8e700e3",
   "metadata": {},
   "source": [
    "<h1>Part 5<h1>"
   ]
  },
  {
   "cell_type": "code",
   "execution_count": 9,
   "id": "c1ac73cb",
   "metadata": {},
   "outputs": [
    {
     "data": {
      "text/html": [
       "<div id=\"glowscript\" class=\"glowscript\"></div>"
      ],
      "text/plain": [
       "<IPython.core.display.HTML object>"
      ]
     },
     "metadata": {},
     "output_type": "display_data"
    },
    {
     "data": {
      "application/javascript": [
       "if (typeof Jupyter !== \"undefined\") { window.__context = { glowscript_container: $(\"#glowscript\").removeAttr(\"id\")};}else{ element.textContent = ' ';}"
      ],
      "text/plain": [
       "<IPython.core.display.Javascript object>"
      ]
     },
     "metadata": {},
     "output_type": "display_data"
    }
   ],
   "source": [
    "  from vpython import * \n",
    "  scene = canvas()"
   ]
  },
  {
   "cell_type": "code",
   "execution_count": 10,
   "id": "97da610d",
   "metadata": {},
   "outputs": [],
   "source": [
    "#Part 5\n",
    "Radius = 1\n",
    "wallB = box(pos = vector(0,0,0),size=vector(12,.2,12), color=color.green)\n",
    "height = 6\n",
    "gravity = 9.8\n",
    "x_0=0\n",
    "vx_0=0\n",
    "y_0= 6\n",
    "vy_0 = 0\n",
    "ball = sphere(pos=vector(x_0,y_0,0), radius=Radius, color=color.blue, make_trail=True)\n",
    "ball.velocity = vector(vx_0, vy_0, 0)\n",
    "totalTime = 0\n",
    "deltaTime = 0.01\n",
    "periodicTime = 0\n",
    "while totalTime< 4:\n",
    "    rate(100)\n",
    "    ball.pos.x = x_0 + vx_0*periodicTime\n",
    "    ball.pos.y = y_0 + vy_0*periodicTime - .5*gravity*periodicTime**2\n",
    "    ball.velocity.x = vx_0\n",
    "    ball.velocity.y = vy_0 - gravity*periodicTime\n",
    "    \n",
    "    if ball.pos.y<=0:\n",
    "        ball.velocity.y = -sqrt(.5)*ball.velocity.y #sqrt .5 assumes a minimal mass in the\n",
    "        ball.velocity.x = sqrt(.5)*ball.velocity.x  #calculations for the force\n",
    "        vy_0 = ball.velocity.y\n",
    "        vx_0 = ball.velocity.x\n",
    "        x_0 = 0\n",
    "        y_0 = 0\n",
    "        periodicTime = 0\n",
    "    totalTime = totalTime + deltaTime\n",
    "    periodicTime = periodicTime + deltaTime\n",
    "    \n",
    "    "
   ]
  },
  {
   "cell_type": "markdown",
   "id": "d5069870",
   "metadata": {},
   "source": [
    "Sources:\n",
    "    https://byjus.com/physics/inelastic-collision/#inelastic-collision-formula"
   ]
  },
  {
   "cell_type": "markdown",
   "id": "9be1eeea",
   "metadata": {},
   "source": [
    "Inelastic collision assumes that some amount of energy will be lost upon contact with a surface, and will only allow a percentage of that energy to return to the ball when changing direction of velocity. the percentage that disapates depends on the mass of the object and height that the object is dropped from. Because of this we can assume any value between 0 and 1 would be appropriate, and the changes produced from those different values are porpotionate to different mass and height combinations."
   ]
  },
  {
   "cell_type": "code",
   "execution_count": null,
   "id": "f4f31f7a",
   "metadata": {},
   "outputs": [],
   "source": []
  }
 ],
 "metadata": {
  "kernelspec": {
   "display_name": "Python 3 (ipykernel)",
   "language": "python",
   "name": "python3"
  },
  "language_info": {
   "codemirror_mode": {
    "name": "ipython",
    "version": 3
   },
   "file_extension": ".py",
   "mimetype": "text/x-python",
   "name": "python",
   "nbconvert_exporter": "python",
   "pygments_lexer": "ipython3",
   "version": "3.9.13"
  }
 },
 "nbformat": 4,
 "nbformat_minor": 5
}

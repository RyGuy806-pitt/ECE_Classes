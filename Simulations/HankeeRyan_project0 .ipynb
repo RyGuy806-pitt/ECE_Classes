{
 "cells": [
  {
   "cell_type": "code",
   "execution_count": 1,
   "id": "1931c2db",
   "metadata": {
    "scrolled": true
   },
   "outputs": [
    {
     "data": {
      "text/html": [
       "<div id=\"glowscript\" class=\"glowscript\"></div>"
      ],
      "text/plain": [
       "<IPython.core.display.HTML object>"
      ]
     },
     "metadata": {},
     "output_type": "display_data"
    },
    {
     "data": {
      "application/javascript": [
       "if (typeof Jupyter !== \"undefined\") { window.__context = { glowscript_container: $(\"#glowscript\").removeAttr(\"id\")};}else{ element.textContent = ' ';}"
      ],
      "text/plain": [
       "<IPython.core.display.Javascript object>"
      ]
     },
     "metadata": {},
     "output_type": "display_data"
    },
    {
     "data": {
      "text/html": [
       "<div id=\"glowscript\" class=\"glowscript\"></div>"
      ],
      "text/plain": [
       "<IPython.core.display.HTML object>"
      ]
     },
     "metadata": {},
     "output_type": "display_data"
    },
    {
     "data": {
      "application/javascript": [
       "if (typeof Jupyter !== \"undefined\") { window.__context = { glowscript_container: $(\"#glowscript\").removeAttr(\"id\")};}else{ element.textContent = ' ';}"
      ],
      "text/plain": [
       "<IPython.core.display.Javascript object>"
      ]
     },
     "metadata": {},
     "output_type": "display_data"
    }
   ],
   "source": [
    "  from vpython import * \n",
    "  scene = canvas()"
   ]
  },
  {
   "cell_type": "code",
   "execution_count": 2,
   "id": "1f2ec5a7",
   "metadata": {},
   "outputs": [
    {
     "data": {
      "application/javascript": [
       "if (typeof Jupyter !== \"undefined\") {require.undef(\"nbextensions/vpython_libraries/glow.min\");}else{element.textContent = ' ';}"
      ],
      "text/plain": [
       "<IPython.core.display.Javascript object>"
      ]
     },
     "metadata": {},
     "output_type": "display_data"
    },
    {
     "data": {
      "application/javascript": [
       "if (typeof Jupyter !== \"undefined\") {require.undef(\"nbextensions/vpython_libraries/glowcomm\");}else{element.textContent = ' ';}"
      ],
      "text/plain": [
       "<IPython.core.display.Javascript object>"
      ]
     },
     "metadata": {},
     "output_type": "display_data"
    },
    {
     "data": {
      "application/javascript": [
       "if (typeof Jupyter !== \"undefined\") {require.undef(\"nbextensions/vpython_libraries/jquery-ui.custom.min\");}else{element.textContent = ' ';}"
      ],
      "text/plain": [
       "<IPython.core.display.Javascript object>"
      ]
     },
     "metadata": {},
     "output_type": "display_data"
    },
    {
     "data": {
      "application/javascript": [
       "if (typeof Jupyter !== \"undefined\") {require([\"nbextensions/vpython_libraries/glow.min\"], function(){console.log(\"GLOW LOADED\");});}else{element.textContent = ' ';}"
      ],
      "text/plain": [
       "<IPython.core.display.Javascript object>"
      ]
     },
     "metadata": {},
     "output_type": "display_data"
    },
    {
     "data": {
      "application/javascript": [
       "if (typeof Jupyter !== \"undefined\") {require([\"nbextensions/vpython_libraries/glowcomm\"], function(){console.log(\"GLOWCOMM LOADED\");});}else{element.textContent = ' ';}"
      ],
      "text/plain": [
       "<IPython.core.display.Javascript object>"
      ]
     },
     "metadata": {},
     "output_type": "display_data"
    },
    {
     "data": {
      "application/javascript": [
       "if (typeof Jupyter !== \"undefined\") {require([\"nbextensions/vpython_libraries/jquery-ui.custom.min\"], function(){console.log(\"JQUERY LOADED\");});}else{element.textContent = ' ';}"
      ],
      "text/plain": [
       "<IPython.core.display.Javascript object>"
      ]
     },
     "metadata": {},
     "output_type": "display_data"
    }
   ],
   "source": [
    "ball = sphere(pos=vector(-5,0,0), radius=0.5, color=color.cyan, make_trail = True) \n",
    "wallR = box(pos=vector(6,0,0), size=vector(0.2,12,12), color=color.green) \n",
    "wallL = box(pos=vector(-6,0,0), size=vector(0.2,12,12), color=color.green)\n",
    "wallT = box(pos=vector(0, 6, 0), size=vector(12,.2,12), color=color.blue)\n",
    "wallB = box(pos=vector(0, -6, 0), size=vector(12,.2,12), color=color.blue)\n",
    "wallP = box(pos=vector(0, 0, -6), size=vector(12,12, .2), color=color.red)\n",
    "ball.velocity = vector(25,5,15) \n",
    "deltat = 0.005 \n",
    "t = 0 \n",
    "ball.pos = ball.pos + ball.velocity*deltat \n",
    "vscale = 0.1\n",
    "varr = arrow(pos=ball.pos, axis=vscale*ball.velocity, color=color.yellow)\n",
    "scene.autoscale = False\n",
    "while t < 3: \n",
    "    rate(100)\n",
    "    \n",
    "    if ball.pos.x > wallR.pos.x: \n",
    "        ball.velocity.x = -ball.velocity.x\n",
    "        #varr = arrow(pos=ball.pos, axis=ball.velocity, color=color.yellow)\n",
    "    if ball.pos.x < wallL.pos.x:\n",
    "        ball.velocity.x = -ball.velocity.x\n",
    "        #varr = arrow(pos=ball.pos, axis=ball.velocity, color=color.yellow)\n",
    "    if ball.pos.y > wallT.pos.y:\n",
    "        ball.velocity.y = -ball.velocity.y\n",
    "    if ball.pos.y < wallB.pos.y:\n",
    "        ball.velocity.y = -ball.velocity.y\n",
    "    if ball.pos.z < wallP.pos.z:\n",
    "        ball.velocity.z = -ball.velocity.z\n",
    "    if ball.pos.z > 6:\n",
    "        ball.velocity.z = -ball.velocity.z    \n",
    "    ball.pos = ball.pos + ball.velocity*deltat \n",
    "    t = t + deltat \n",
    "    varr.pos = ball.pos\n",
    "    varr.axis = ball.velocity*vscale"
   ]
  },
  {
   "cell_type": "code",
   "execution_count": null,
   "id": "b455a353",
   "metadata": {},
   "outputs": [],
   "source": [
    "#Goals:\n",
    "    \n",
    "    #I have never used python for a class and hope to gain some higher level skills in the language\n",
    "    #I have also rarely gotten to see physical representations of my code and am very excited to work with \n",
    "    #this type of object oriented work, and hope to learn many methods of manipulating and using such a library\n",
    "    #I hope to learn the basics of graphics, even if they are not made from scratch as well"
   ]
  }
 ],
 "metadata": {
  "kernelspec": {
   "display_name": "Python 3 (ipykernel)",
   "language": "python",
   "name": "python3"
  },
  "language_info": {
   "codemirror_mode": {
    "name": "ipython",
    "version": 3
   },
   "file_extension": ".py",
   "mimetype": "text/x-python",
   "name": "python",
   "nbconvert_exporter": "python",
   "pygments_lexer": "ipython3",
   "version": "3.9.13"
  }
 },
 "nbformat": 4,
 "nbformat_minor": 5
}

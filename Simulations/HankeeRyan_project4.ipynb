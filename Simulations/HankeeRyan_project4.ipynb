{
 "cells": [
  {
   "cell_type": "markdown",
   "id": "951c98d1",
   "metadata": {},
   "source": [
    "<h1>Part 1: Random Walker<h1>"
   ]
  },
  {
   "cell_type": "code",
   "execution_count": 1,
   "id": "f2bb8f12",
   "metadata": {},
   "outputs": [],
   "source": [
    "import numpy\n",
    "import random\n",
    "import matplotlib.pyplot as plt"
   ]
  },
  {
   "cell_type": "code",
   "execution_count": 2,
   "id": "a25b5d29",
   "metadata": {},
   "outputs": [],
   "source": [
    "n = 100\n",
    "x = numpy.zeros(n)\n",
    "y = numpy.zeros(n)"
   ]
  },
  {
   "cell_type": "code",
   "execution_count": 3,
   "id": "71bef3ed",
   "metadata": {},
   "outputs": [],
   "source": [
    "for i in range(1, n):\n",
    "    val = random.randint(1, 10)\n",
    "    if val == 1 or val == 5 or val == 9:\n",
    "        x[i] = x[i - 1] + 1\n",
    "        y[i] = y[i - 1]\n",
    "    elif val == 2 or val == 6:\n",
    "        x[i] = x[i - 1] - 1\n",
    "        y[i] = y[i - 1]\n",
    "    elif val == 3 or val == 7 or val == 10:\n",
    "        x[i] = x[i - 1]\n",
    "        y[i] = y[i - 1] + 1\n",
    "    else:\n",
    "        x[i] = x[i - 1]\n",
    "        y[i] = y[i - 1] - 1"
   ]
  },
  {
   "cell_type": "code",
   "execution_count": 4,
   "id": "cac65616",
   "metadata": {},
   "outputs": [
    {
     "data": {
      "image/png": "[encoded data removed]",
      "text/plain": [
       "<Figure size 640x480 with 1 Axes>"
      ]
     },
     "metadata": {},
     "output_type": "display_data"
    }
   ],
   "source": [
    "plt.scatter(x, y)\n",
    "plt.show()"
   ]
  },
  {
   "cell_type": "markdown",
   "id": "83be51b5",
   "metadata": {},
   "source": [
    "<h3>References<h3>"
   ]
  },
  {
   "cell_type": "markdown",
   "id": "a706d666",
   "metadata": {},
   "source": [
    "https://stackoverflow.com/questions/17322041/visualizing-a-2d-random-walk-in-python"
   ]
  },
  {
   "cell_type": "markdown",
   "id": "dfa14daf",
   "metadata": {},
   "source": [
    "https://towardsdatascience.com/random-walks-with-python-8420981bc4bc"
   ]
  },
  {
   "cell_type": "markdown",
   "id": "dd91d01e",
   "metadata": {},
   "source": [
    "<h3>Explanation<h3>"
   ]
  },
  {
   "cell_type": "markdown",
   "id": "f5105849",
   "metadata": {},
   "source": [
    "This model seems to confirm that the random number are normally distributed. I have gathered this using the n steps to sqrt(n) = r rule. these models deviate slightly for that, but that is not because the random number are not uniformily distributed, but that that the number of possible random numbers itself is not divisble by 4, I made it so that it was equally likely to go up or right, and then respectively down and left as well, but those sets of 2 themselves are not equally likely still, in a case with 100 steps the farthest radius was 12, and with 10000, it was roughly 140, which is not perfect according to the standard but also further affirms true randomness."
   ]
  },
  {
   "cell_type": "markdown",
   "id": "d9c5a557",
   "metadata": {},
   "source": [
    "<h1>Part 2: Cellular Automata<h1>"
   ]
  },
  {
   "cell_type": "code",
   "execution_count": 5,
   "id": "c2d8c501",
   "metadata": {},
   "outputs": [],
   "source": [
    "import numpy\n",
    "import matplotlib.pyplot as plt"
   ]
  },
  {
   "cell_type": "code",
   "execution_count": 6,
   "id": "9f7eae59",
   "metadata": {},
   "outputs": [
    {
     "name": "stdout",
     "output_type": "stream",
     "text": [
      "[0, 0, 0, 1, 1, 1, 1, 0]\n"
     ]
    }
   ],
   "source": [
    "out = [0, 0, 0, 1, 1, 1, 1, 0]\n",
    "print(out)"
   ]
  },
  {
   "cell_type": "code",
   "execution_count": 7,
   "id": "ca7ddc52",
   "metadata": {},
   "outputs": [],
   "source": [
    "inp = numpy.zeros([8,3])\n",
    " \n",
    "inp[0] = [1., 1., 1.]\n",
    "inp[1] = [1., 1., 0.]\n",
    "inp[2] = [1., 0., 1.]\n",
    "inp[3] = [1., 0., 0.]\n",
    "inp[4] = [0., 1., 1.]\n",
    "inp[5] = [0., 1., 0.]\n",
    "inp[6] = [0., 0., 1.]\n",
    "inp[7] = [0., 0., 0.]\n"
   ]
  },
  {
   "cell_type": "code",
   "execution_count": 8,
   "id": "3ee361a9",
   "metadata": {},
   "outputs": [],
   "source": [
    "c = 50\n",
    "r = int(c/2)+1"
   ]
  },
  {
   "cell_type": "code",
   "execution_count": 9,
   "id": "57331bd9",
   "metadata": {},
   "outputs": [],
   "source": [
    "grid = numpy.zeros([r, c+2])\n",
    "grid[0, int(c/2)+1] = 1"
   ]
  },
  {
   "cell_type": "code",
   "execution_count": 10,
   "id": "586f05e7",
   "metadata": {},
   "outputs": [],
   "source": [
    "for i in numpy.arange(0, r-1):\n",
    "    for j in numpy.arange(0,c):\n",
    "        for k in range(8):\n",
    "            if numpy.array_equal(inp[k, :], grid[i, j:j+3]):\n",
    "                grid[i+1 , j+1] = out[k]"
   ]
  },
  {
   "cell_type": "code",
   "execution_count": 11,
   "id": "3800ba94",
   "metadata": {},
   "outputs": [
    {
     "data": {
      "text/plain": [
       "Text(0.5, 1.0, 'Cellular Automata')"
      ]
     },
     "execution_count": 11,
     "metadata": {},
     "output_type": "execute_result"
    },
    {
     "data": {
      "image/png": "[encoded data removed]",
      "text/plain": [
       "<Figure size 640x480 with 1 Axes>"
      ]
     },
     "metadata": {},
     "output_type": "display_data"
    }
   ],
   "source": [
    "plt.imshow(grid[:, 1:c+1], cmap = \"Greys\")\n",
    "plt.title(\"Cellular Automata\")"
   ]
  },
  {
   "cell_type": "markdown",
   "id": "29a9cfa2",
   "metadata": {},
   "source": [
    "<h3>References<h3>"
   ]
  },
  {
   "cell_type": "markdown",
   "id": "927bbf93",
   "metadata": {},
   "source": [
    "https://matplotlib.org/matplotblog/posts/elementary-cellular-automata/"
   ]
  },
  {
   "cell_type": "markdown",
   "id": "27032636",
   "metadata": {},
   "source": [
    "https://www.youtube.com/watch?v=YQyQyxtLvi8"
   ]
  },
  {
   "cell_type": "markdown",
   "id": "6586e6a8",
   "metadata": {},
   "source": [
    "<h3>Explanation<h3>"
   ]
  },
  {
   "cell_type": "markdown",
   "id": "2b0b4f9d",
   "metadata": {},
   "source": [
    "After doing some research, i chose a value of 30, as it is somewhat repetitive but not an exactly symmetric boring pattern. I did not necessarily need to choose a stopping condition using this method, rather specify how many rows and columns I would like to be shown on the graph. The only factor that i used in choosing this is that I new for everyone 1 new row I would add to the canvas, I would inherently have to add 2 columns, limiting how far I wanted to image to zoom out, so that the patterns could still be observed."
   ]
  },
  {
   "cell_type": "markdown",
   "id": "82bf4a61",
   "metadata": {},
   "source": [
    "<h1>Part 3: Game of Life<h1>"
   ]
  },
  {
   "cell_type": "markdown",
   "id": "bfbdf087",
   "metadata": {},
   "source": [
    "COLOR_BG = (10, 10, 10)\n",
    "COLOR_GRID = (40, 40, 40)\n",
    "COLOR_DIE_NEXT = (170, 170, 170)\n",
    "COLOR_ALIVE_NEXT = (255, 255, 255)\n",
    "\n",
    "def update(screen, cells, size, with_progress=False):\n",
    "    updated_cells = np.zeros((cells.shape[0], cells.shape[1]))\n",
    "    \n",
    "    for row, col in np.ndindex(cells.shape):\n",
    "        alive = np.sum(cells[row-1:row+2, col-1:col+2]) - cells[row, col]\n",
    "        color = COLOR_BG if cells[row, col] == 0 else COLOR_ALIVE_NEXT\n",
    "        \n",
    "        if cells[row, col] == 1:\n",
    "            if alive < 2 or alive > 3:\n",
    "                if with_progress:\n",
    "                    color = COLOR_DIE_NEXT\n",
    "                elif 2 <= alive <= 3:\n",
    "                    updated_cells[row, col] = 1\n",
    "                    if with_progress:\n",
    "                        color = COLOR_ALIVE_NEXT\n",
    "        else:\n",
    "            if alive == 3:\n",
    "                updated_cells[row, col] = 1\n",
    "                if with_progress:\n",
    "                    color = COLOR_ALIVE_NEXT\n",
    "                    \n",
    "        pygame.draw.rect(screen, color, (col*size, row*size, size-1, size-1))\n",
    "        \n",
    "    return updated_cells\n",
    "            "
   ]
  },
  {
   "cell_type": "markdown",
   "id": "466c0b12",
   "metadata": {},
   "source": [
    "<h3>Reference Help<h3>"
   ]
  },
  {
   "cell_type": "markdown",
   "id": "94403fd7",
   "metadata": {},
   "source": [
    "My first attempt at recreating this game did not work, however the above code segment did help clarify the basis of the rules for the game, and I used it as a reference point for my following iterations"
   ]
  },
  {
   "cell_type": "markdown",
   "id": "c9a2c046",
   "metadata": {},
   "source": [
    "https://www.youtube.com/watch?v=cRWg2SWuXtM"
   ]
  },
  {
   "cell_type": "markdown",
   "id": "32b0f33a",
   "metadata": {},
   "source": [
    "https://matgomes.com/conways-game-of-life-python/"
   ]
  },
  {
   "cell_type": "code",
   "execution_count": 22,
   "id": "07f9aaf5",
   "metadata": {},
   "outputs": [],
   "source": [
    "from collections import namedtuple\n",
    "\n",
    "Dim = namedtuple(\"Dimension\", [\"width\", \"height\"])\n",
    "Grid = namedtuple(\"Grid\", [\"dim\", \"cells\"])\n",
    "Adjacents = namedtuple(\"Adjacents\", [\"alive\", \"dead\"])"
   ]
  },
  {
   "cell_type": "markdown",
   "id": "9974a209",
   "metadata": {},
   "source": [
    "The link above was a very nice article explaining the development of the game of life in python and how to utilize namedtuple in order to simplify the complexity of the overall code."
   ]
  },
  {
   "cell_type": "code",
   "execution_count": 23,
   "id": "b41076d7",
   "metadata": {},
   "outputs": [],
   "source": [
    "block_and_glider = Grid(Dim(50, 50), {(1,1),(2,2),(2,3),(3,2),(3,1), (4,4), (4,5), (5,4), (5,5)})"
   ]
  },
  {
   "cell_type": "code",
   "execution_count": 24,
   "id": "22c9c8e6",
   "metadata": {},
   "outputs": [],
   "source": [
    "import sys\n",
    "import time\n",
    "from collections import defaultdict\n",
    "from copy import deepcopy\n",
    "\n",
    "import pygame\n",
    "import numpy as np"
   ]
  },
  {
   "cell_type": "code",
   "execution_count": 25,
   "id": "975b2542",
   "metadata": {},
   "outputs": [],
   "source": [
    "def get_adj(grid: Grid, x: int, y: int):\n",
    "    offsets = [(-1, -1), (0, -1), (1, -1), (-1, 0), (1, 0), (-1, 1), (0, 1), (1, 1)]\n",
    "    possible_neighbours = {(x + x_off, y + y_off) for x_off, y_off in offsets}\n",
    "    alive = {(pos[0], pos[1]) for pos in possible_neighbours if pos in grid.cells}\n",
    "    \n",
    "    return Adjacents(alive, possible_neighbours - alive)\n",
    "\n",
    "\n",
    "def update_grid(grid: Grid) -> Grid:\n",
    "    undead = defaultdict(int)\n",
    "    next_cells = deepcopy(grid.cells)\n",
    "    \n",
    "    for (x, y) in grid.cells:\n",
    "        live_cells, dead_cells = get_adj(grid, x, y)\n",
    "        if len(live_cells) not in [2, 3]:#need 2 to 3 living cell neighbors for relevance\n",
    "            next_cells.remove((x, y))\n",
    "\n",
    "        for i in dead_cells:\n",
    "            undead[i] += 1\n",
    "\n",
    "    for pos, _ in filter(lambda elem: elem[1] == 3, undead.items()):#if 3 neighbors\n",
    "        next_cells.add((pos[0], pos[1]))\n",
    "\n",
    "    return Grid(grid.dim, next_cells)\n",
    "\n",
    "\n",
    "def init_grid(screen: pygame.Surface, grid: Grid) -> None:\n",
    "    cell_width = screen.get_width() / grid.dim.width\n",
    "    cell_height = screen.get_height() / grid.dim.height\n",
    "\n",
    "    for (x, y) in grid.cells:\n",
    "        pygame.draw.rect(screen, (255, 0, 0), (x * cell_width + 2, y * cell_height + 2, cell_width - 2, cell_height - 2))"
   ]
  },
  {
   "cell_type": "code",
   "execution_count": 5,
   "id": "df937685",
   "metadata": {},
   "outputs": [],
   "source": [
    "def main():\n",
    "    grid = block_and_glider\n",
    "\n",
    "    pygame.init()\n",
    "    screen = pygame.display.set_mode((600, 400))\n",
    "\n",
    "    while True:\n",
    "        if pygame.QUIT in [e.type for e in pygame.event.get()]:\n",
    "            sys.exit(0)\n",
    "            \n",
    "        screen.fill((0, 0, 0))\n",
    "        init_grid(screen, grid)\n",
    "        grid = update_grid(grid)\n",
    "        pygame.display.flip()\n",
    "        time.sleep(0.1)"
   ]
  },
  {
   "cell_type": "code",
   "execution_count": null,
   "id": "67119894",
   "metadata": {},
   "outputs": [],
   "source": [
    "if __name__ == \"__main__\":\n",
    "    main()"
   ]
  },
  {
   "cell_type": "markdown",
   "id": "42cceeef",
   "metadata": {},
   "source": [
    "<h4>More References<h4>"
   ]
  },
  {
   "cell_type": "markdown",
   "id": "eb0a983d",
   "metadata": {},
   "source": [
    "https://stackoverflow.com/questions/51425023/exiting-pygame-by-pressing-space#:~:text=Run%20this%20in%20a%20loop%3A%20keys%20%3D%20pygame.key.get_pressed,key%20Space%20is%20pressed%2C%20this%20will%20quit%20Pygame."
   ]
  },
  {
   "cell_type": "markdown",
   "id": "c7f3dbab",
   "metadata": {},
   "source": [
    "https://www.geeksforgeeks.org/conways-game-life-python-implementation/"
   ]
  },
  {
   "cell_type": "markdown",
   "id": "3faea03c",
   "metadata": {},
   "source": [
    "https://www.pygame.org/project/5560/"
   ]
  },
  {
   "cell_type": "markdown",
   "id": "f7f533ec",
   "metadata": {},
   "source": [
    "https://stackoverflow.com/questions/33163325/game-of-life-pygame"
   ]
  },
  {
   "cell_type": "markdown",
   "id": "35e37eaf",
   "metadata": {},
   "source": [
    "https://betterprogramming.pub/how-to-write-conwells-game-of-life-in-python-c6eca19c4676"
   ]
  },
  {
   "cell_type": "markdown",
   "id": "37ea4e80",
   "metadata": {},
   "source": [
    "https://www.youtube.com/watch?v=cRWg2SWuXtM"
   ]
  },
  {
   "cell_type": "markdown",
   "id": "9d74c072",
   "metadata": {},
   "source": [
    "https://www.youtube.com/watch?v=fei4bJQdBUQ"
   ]
  },
  {
   "cell_type": "markdown",
   "id": "375d33c5",
   "metadata": {},
   "source": [
    "https://www.youtube.com/watch?v=d73z8U0iUYE&t=489s"
   ]
  },
  {
   "cell_type": "markdown",
   "id": "2e80b96b",
   "metadata": {},
   "source": [
    "https://github.com/domoritz/gameoflife-python"
   ]
  },
  {
   "cell_type": "markdown",
   "id": "aa73cbaa",
   "metadata": {},
   "source": [
    "<h3>Validation Testing<h3>"
   ]
  },
  {
   "cell_type": "markdown",
   "id": "53301d92",
   "metadata": {},
   "source": [
    "As far as I can tell, this iteration of my design is working. The first 3 however, were not as lucky. in the first iteration I believe my cells were attempting to update too quickly, and therefore some specific structures were working, which made me believe it was fully working, until I could not get any additional blocks to be produced. Static structures worked correctly, but moving structures could not move besides oscilating in place relative to their center.\n",
    "\n",
    "The second iteration would not actually run the simulation, it was giving me a multitude of errors with the exit and timing scheme I was attempting to use, and after doing further work I believe this iteration may have worked, however I deleted it well before finding the solution. For some reason it seems Jupyter Notebook is somewhat buggy with the pygame.events functions, and will not respond to the correct combination of buttons to exit. If it then believes there is no actual exit scheme, the program will buffer until it has exceeded the time limit.\n",
    "\n",
    "The third iteration of my design was more promising, as it did allow the correct structures to be formed, and those same structures moved, but for some reason they could only move a distance of one before being destroyed by the game. I am still not sure why this was occuring, but i believe I was updating the grid too frequently.\n",
    "\n",
    "The final iteration is what is here, which I received a lot of help from the previously mentioned sources on. I validated it by building each of the structures in the grid variable, and just checking 2 or 3 of each type of structure. I did not want to test the large ship as it is a lot of coordinates, all objects seem to move as expected. I have been having some trouble centering the image and I am not sure why, but if you wait long enough on block_and_glider, a glider will move down the screen."
   ]
  },
  {
   "cell_type": "markdown",
   "id": "4cd358a4",
   "metadata": {},
   "source": [
    "<h1>Part 4: Asychronous Updating<h1>"
   ]
  },
  {
   "cell_type": "code",
   "execution_count": 26,
   "id": "2d14eba1",
   "metadata": {},
   "outputs": [],
   "source": [
    "block_and_glider_osc = Grid(Dim(50, 50), {(1,1),(2,2),(2,3),(3,2),(3,1), (4,4), (4,5), (5,4), (5,5), (8,4), (8,5), (8,6)})"
   ]
  },
  {
   "cell_type": "code",
   "execution_count": 27,
   "id": "2e088b27",
   "metadata": {},
   "outputs": [],
   "source": [
    "def random_update_grid(grid: Grid) -> Grid:\n",
    "    next_cells = deepcopy(grid.cells)\n",
    "    undead = defaultdict(int)\n",
    "\n",
    "    #analyze the number of valid cells and pick a random number in that range\n",
    "    j = np.random.randint(len(grid.cells))\n",
    "    count = 0\n",
    "    \n",
    "    #this loop will run n == len(grid.cells) many times, so j should always appear\n",
    "    for (x, y) in grid.cells:\n",
    "        #once j == that iteration of the loop that cell will update\n",
    "        if(j==count):\n",
    "            live_cells, dead_cells = get_adj(grid, x, y)\n",
    "            if len(live_cells) not in [2, 3]:#need 2 to 3 living cell neighbors for relevance\n",
    "                next_cells.remove((x, y))\n",
    "\n",
    "            for i in dead_cells:\n",
    "                undead[i] += 1\n",
    "\n",
    "    for pos, _ in filter(lambda elem: elem[1] == 3, undead.items()):#if 3 neighbors\n",
    "        next_cells.add((pos[0], pos[1]))\n",
    "\n",
    "    return Grid(grid.dim, next_cells)"
   ]
  },
  {
   "cell_type": "code",
   "execution_count": 28,
   "id": "3b45db56",
   "metadata": {},
   "outputs": [],
   "source": [
    "def main():\n",
    "    grid = block_and_glider_osc\n",
    "\n",
    "    pygame.init()\n",
    "    screen = pygame.display.set_mode((600, 400))\n",
    "\n",
    "    while True:\n",
    "        if pygame.QUIT in [e.type for e in pygame.event.get()]:\n",
    "            sys.exit(0)\n",
    "\n",
    "        screen.fill((0, 0, 0))\n",
    "        init_grid(screen, grid)\n",
    "        grid = random_update_grid(grid)\n",
    "        pygame.display.flip()\n",
    "        time.sleep(0.1)"
   ]
  },
  {
   "cell_type": "code",
   "execution_count": 29,
   "id": "7c9c789b",
   "metadata": {},
   "outputs": [
    {
     "ename": "SystemExit",
     "evalue": "0",
     "output_type": "error",
     "traceback": [
      "An exception has occurred, use %tb to see the full traceback.\n",
      "\u001b[1;31mSystemExit\u001b[0m\u001b[1;31m:\u001b[0m 0\n"
     ]
    },
    {
     "name": "stderr",
     "output_type": "stream",
     "text": [
      "C:\\Users\\Ryan\\anaconda3\\lib\\site-packages\\IPython\\core\\interactiveshell.py:3465: UserWarning: To exit: use 'exit', 'quit', or Ctrl-D.\n",
      "  warn(\"To exit: use 'exit', 'quit', or Ctrl-D.\", stacklevel=1)\n"
     ]
    }
   ],
   "source": [
    "if __name__ == \"__main__\":\n",
    "    main()"
   ]
  },
  {
   "cell_type": "markdown",
   "id": "a4e47d7c",
   "metadata": {},
   "source": [
    "<h3>Effects on Sychronous Model<h3>"
   ]
  },
  {
   "cell_type": "markdown",
   "id": "4a75c3d7",
   "metadata": {},
   "source": [
    "The code still works but in a very odd way. Oscillators and still life in particular seem fine will no interaction, however the code seems to get confused once any of the objects interact with a moving spaceship. The updates occur much slower once any collision has occured, and im not sure if the lag is due to the random amount of time it could take to update or because of issues with pygame updating, but I have reached 2 conclusions: the run time will be exponentially longer on this program at least in respect to how I have managed to model this, and secondly it is much more difficult to analyze the interactions between any 2 life forms because you have no idea which one is going to update, nor can you really tell which direction/state it was in before the last movement, making it extremely difficult to validate if the correct interactions are occuring between every time step"
   ]
  },
  {
   "cell_type": "markdown",
   "id": "2d794521",
   "metadata": {},
   "source": [
    "<h3>References<h3>"
   ]
  },
  {
   "cell_type": "markdown",
   "id": "9386486f",
   "metadata": {},
   "source": [
    "https://www.scaler.com/topics/numpy/numpy-random/"
   ]
  },
  {
   "cell_type": "markdown",
   "id": "b55e428b",
   "metadata": {},
   "source": [
    "https://en.wikipedia.org/wiki/Asynchronous_cellular_automaton"
   ]
  },
  {
   "cell_type": "code",
   "execution_count": null,
   "id": "9148616a",
   "metadata": {},
   "outputs": [],
   "source": []
  }
 ],
 "metadata": {
  "kernelspec": {
   "display_name": "Python 3 (ipykernel)",
   "language": "python",
   "name": "python3"
  },
  "language_info": {
   "codemirror_mode": {
    "name": "ipython",
    "version": 3
   },
   "file_extension": ".py",
   "mimetype": "text/x-python",
   "name": "python",
   "nbconvert_exporter": "python",
   "pygments_lexer": "ipython3",
   "version": "3.9.13"
  }
 },
 "nbformat": 4,
 "nbformat_minor": 5
}

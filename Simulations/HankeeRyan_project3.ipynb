{
 "cells": [
  {
   "cell_type": "markdown",
   "id": "22097eaa",
   "metadata": {},
   "source": [
    "<h1>Simulation<h1>"
   ]
  },
  {
   "cell_type": "code",
   "execution_count": 1,
   "id": "571febcf",
   "metadata": {},
   "outputs": [
    {
     "data": {
      "text/html": [
       "<div id=\"glowscript\" class=\"glowscript\"></div>"
      ],
      "text/plain": [
       "<IPython.core.display.HTML object>"
      ]
     },
     "metadata": {},
     "output_type": "display_data"
    },
    {
     "data": {
      "application/javascript": [
       "if (typeof Jupyter !== \"undefined\") { window.__context = { glowscript_container: $(\"#glowscript\").removeAttr(\"id\")};}else{ element.textContent = ' ';}"
      ],
      "text/plain": [
       "<IPython.core.display.Javascript object>"
      ]
     },
     "metadata": {},
     "output_type": "display_data"
    },
    {
     "data": {
      "text/html": [
       "<div id=\"glowscript\" class=\"glowscript\"></div>"
      ],
      "text/plain": [
       "<IPython.core.display.HTML object>"
      ]
     },
     "metadata": {},
     "output_type": "display_data"
    },
    {
     "data": {
      "application/javascript": [
       "if (typeof Jupyter !== \"undefined\") { window.__context = { glowscript_container: $(\"#glowscript\").removeAttr(\"id\")};}else{ element.textContent = ' ';}"
      ],
      "text/plain": [
       "<IPython.core.display.Javascript object>"
      ]
     },
     "metadata": {},
     "output_type": "display_data"
    }
   ],
   "source": [
    "from vpython import * \n",
    "scene = canvas()"
   ]
  },
  {
   "cell_type": "markdown",
   "id": "e2de7cc6",
   "metadata": {},
   "source": [
    "<h2>Parameters<h2>"
   ]
  },
  {
   "cell_type": "code",
   "execution_count": 2,
   "id": "ba9f7629",
   "metadata": {},
   "outputs": [],
   "source": [
    "k = 1\n",
    "m = 1\n",
    "distance = 1\n",
    "r = .3\n",
    "Length_spring = 1 - 1.8*.3\n",
    "Volume_spring = pi*(.15)**2*Length_spring\n",
    "dt = .1\n",
    "t = 0\n",
    "U = 0\n",
    "KE = 0\n",
    "spring_max = 0\n",
    "v = 0\n",
    "dx = Length_spring"
   ]
  },
  {
   "cell_type": "code",
   "execution_count": 3,
   "id": "66dadf62",
   "metadata": {},
   "outputs": [
    {
     "data": {
      "application/javascript": [
       "if (typeof Jupyter !== \"undefined\") {require.undef(\"nbextensions/vpython_libraries/glow.min\");}else{element.textContent = ' ';}"
      ],
      "text/plain": [
       "<IPython.core.display.Javascript object>"
      ]
     },
     "metadata": {},
     "output_type": "display_data"
    },
    {
     "data": {
      "application/javascript": [
       "if (typeof Jupyter !== \"undefined\") {require.undef(\"nbextensions/vpython_libraries/glowcomm\");}else{element.textContent = ' ';}"
      ],
      "text/plain": [
       "<IPython.core.display.Javascript object>"
      ]
     },
     "metadata": {},
     "output_type": "display_data"
    },
    {
     "data": {
      "application/javascript": [
       "if (typeof Jupyter !== \"undefined\") {require.undef(\"nbextensions/vpython_libraries/jquery-ui.custom.min\");}else{element.textContent = ' ';}"
      ],
      "text/plain": [
       "<IPython.core.display.Javascript object>"
      ]
     },
     "metadata": {},
     "output_type": "display_data"
    },
    {
     "data": {
      "application/javascript": [
       "if (typeof Jupyter !== \"undefined\") {require([\"nbextensions/vpython_libraries/glow.min\"], function(){console.log(\"GLOW LOADED\");});}else{element.textContent = ' ';}"
      ],
      "text/plain": [
       "<IPython.core.display.Javascript object>"
      ]
     },
     "metadata": {},
     "output_type": "display_data"
    },
    {
     "data": {
      "application/javascript": [
       "if (typeof Jupyter !== \"undefined\") {require([\"nbextensions/vpython_libraries/glowcomm\"], function(){console.log(\"GLOWCOMM LOADED\");});}else{element.textContent = ' ';}"
      ],
      "text/plain": [
       "<IPython.core.display.Javascript object>"
      ]
     },
     "metadata": {},
     "output_type": "display_data"
    },
    {
     "data": {
      "application/javascript": [
       "if (typeof Jupyter !== \"undefined\") {require([\"nbextensions/vpython_libraries/jquery-ui.custom.min\"], function(){console.log(\"JQUERY LOADED\");});}else{element.textContent = ' ';}"
      ],
      "text/plain": [
       "<IPython.core.display.Javascript object>"
      ]
     },
     "metadata": {},
     "output_type": "display_data"
    }
   ],
   "source": [
    "g1 = graph(xtitle=\"t [s]\", ytitle=\"Energy\", title=\"Euler Forward\", width=500, height=150)\n",
    "f1 = gcurve(color=color.red)\n",
    "f2 = gcurve(color=color.green)\n",
    "f3 = gcurve(color=color.blue)\n",
    "\n",
    "g2 = graph(xtitle=\"t [s]\", ytitle=\"Energy\", title=\"Euler Backward\",width=500, height=150)\n",
    "f4 = gcurve(color=color.red)\n",
    "f5 = gcurve(color=color.green)\n",
    "f6 = gcurve(color=color.blue)\n",
    "\n",
    "g3 = graph(xtitle=\"t [s]\", ytitle=\"Energy\", title=\"Trapezoid\", width=500, height=150)\n",
    "f7 = gcurve(color=color.red)\n",
    "f8 = gcurve(color=color.green)\n",
    "f9 = gcurve(color=color.blue)\n",
    "\n",
    "g4 = graph(xtitle=\"t [s]\", ytitle=\"Energy\", title=\"Damped\", width=500, height=150)\n",
    "f10 = gcurve(color=color.red)\n",
    "f11 = gcurve(color=color.green)\n",
    "f12 = gcurve(color=color.blue)"
   ]
  },
  {
   "cell_type": "markdown",
   "id": "7836e09b",
   "metadata": {},
   "source": [
    "<h2>Spring Function<h2>"
   ]
  },
  {
   "cell_type": "markdown",
   "id": "0b15018b",
   "metadata": {},
   "source": [
    "<h4>Background Knowledge<h4>"
   ]
  },
  {
   "cell_type": "markdown",
   "id": "a1b26cdf",
   "metadata": {},
   "source": [
    "In my previous trail of this project, I was able to create the matrix, however it did not perform the intended motion. This is because of my misunderstand on how the structure would function as a physical system. I had initially made a 3x3x3 cube of 27 atoms and springs connecting all the adjacents. After doing research and studying the example simulation further, I realized that I this is not similar to how this structure interacts with the real world at all, but rather that all atos will have an adjacent atom. Because of this I need to create a few more layers of atoms that are not necessarily visible, in order to apply the correct forces  to the atoms I intend to simulate, otherwise the atoms moment will build and begin moving across the screen in a big blob of a figure rather than a cube."
   ]
  },
  {
   "cell_type": "code",
   "execution_count": 4,
   "id": "ec7a73bf",
   "metadata": {},
   "outputs": [],
   "source": [
    "class Crystal:\n",
    "        \n",
    "    def __init__(self, radius, spacing, momentumRange):\n",
    "        self.atoms = []\n",
    "        self.springs = []\n",
    "        \n",
    "        for z in range(-1,4,1):\n",
    "            for y in range(-1,4,1):\n",
    "                for x in range(-1,4,1):\n",
    "                    atom = sphere(pos=vector(x,y,z)*spacing, radius = radius, color = color.blue)\n",
    "                    #only apply velocity to the visible atoms, the remaining atoms will keep the moving atoms in the intended place\n",
    "                    if 0 <= x < 3 and 0 <= y < 3 and 0 <= z < 3:\n",
    "                        p = vec.random()\n",
    "                        atom.momentum = momentumRange*p\n",
    "                        #for m = 1, p = v\n",
    "                        atom.velocity = atom.momentum/m\n",
    "                    else:#outer most layer is invisible\n",
    "                        atom.visible = False\n",
    "                        atom.velocity = vec(0,0,0)\n",
    "                        atom.momentum = vec(0,0,0)\n",
    "                    atom.index = len(self.atoms)\n",
    "                    self.atoms.append(atom)\n",
    "                    \n",
    "        for atom in self.atoms:\n",
    "            if atom.visible:\n",
    "                if atom.pos.x == 0 or atom.pos.x == 2:\n",
    "                    self.place_spring(\"x\", atom.pos.x, atom)\n",
    "                else:\n",
    "                    self.make_spring(atom, self.atoms[atom.index+1], True)\n",
    "\n",
    "                if atom.pos.y == 0 or atom.pos.y == 2:\n",
    "                    self.place_spring(\"y\", atom.pos.y, atom)\n",
    "                else:\n",
    "                    self.make_spring(atom, self.atoms[atom.index+(5)], True)\n",
    "                    \n",
    "                if atom.pos.z == 0 or atom.pos.z == 2:\n",
    "                    self.place_spring(\"z\", atom.pos.z, atom)\n",
    "                else:\n",
    "                    self.make_spring(atom, self.atoms[atom.index+(5)**2], True)\n",
    "    \n",
    "    # Create a grid of springs linking each atom to the adjacent atoms\n",
    "    # in each dimension, or to invisible motionless atoms\n",
    "    def make_spring(self, start, end, visible):\n",
    "        spring = helix(pos = start.pos, axis = end.pos-start.pos, visible = visible, points = [start, end], color = color.white)\n",
    "        #spring characteristics for modeling\n",
    "        spring.thickness = 0.05\n",
    "        spring.radius = 0.15\n",
    "        spring.length = distance\n",
    "        self.springs.append(spring)\n",
    "        \n",
    "    def place_spring(self, c, n, atom):\n",
    "        if(c==\"x\" and n==0):\n",
    "            self.make_spring(self.atoms[atom.index-1], atom, False)\n",
    "            self.make_spring(atom, self.atoms[atom.index+1], True)\n",
    "        if(c==\"x\" and n==2):\n",
    "            self.make_spring(atom, self.atoms[atom.index+1], False)\n",
    "        if(c==\"y\" and n==0):\n",
    "            self.make_spring(self.atoms[atom.index-(5)], atom, False)\n",
    "            self.make_spring(atom, self.atoms[atom.index+(5)], True)\n",
    "        if(c==\"y\" and n==2):\n",
    "            self.make_spring(atom, self.atoms[atom.index+(5)], False)\n",
    "        if(c==\"z\" and n==0):\n",
    "            self.make_spring(self.atoms[atom.index-(5)**2], atom, False)\n",
    "            self.make_spring(atom, self.atoms[atom.index+(5)**2], True)\n",
    "        if(c==\"z\" and n==2):\n",
    "            self.make_spring(atom, self.atoms[atom.index+(5)**2], False)\n",
    "        \n"
   ]
  },
  {
   "cell_type": "markdown",
   "id": "ce48ff9c",
   "metadata": {},
   "source": [
    "The moving atoms are only the visible ones, the invisible ones serve the purpose of keeping the moving atoms in the proper place. This simulates the real world rather well (in an ideal reality) because the net force applied to most objects by atoms is close to 0, due to the sheer quantity of the atoms and their spacing in our universe, all constantly applying forces to other atoms from every direction possible."
   ]
  },
  {
   "cell_type": "markdown",
   "id": "074b6241",
   "metadata": {},
   "source": [
    "I would also like to note there were not many adjustments or optimizations I could figure out for the make spring loop in particular. Trying to make it in another format seems to constantly result in the atoms not moving in the correct mannerism and I am uncertain as to why. I believe it is a misconception with the invisible springs and how I was setting them up, however without any visual aid to them it is difficult to test for, and when they all do become visible the lag increases dramatically and because of this it is too difficult to tell what is actually happening."
   ]
  },
  {
   "cell_type": "code",
   "execution_count": 5,
   "id": "9d276780",
   "metadata": {},
   "outputs": [],
   "source": [
    "lattice = Crystal(r, distance, 0.1*distance*sqrt(k/m))"
   ]
  },
  {
   "cell_type": "markdown",
   "id": "68937406",
   "metadata": {},
   "source": [
    "<h2>Loop<h2>"
   ]
  },
  {
   "cell_type": "markdown",
   "id": "f84f715d",
   "metadata": {},
   "source": [
    "<h4>Forward Euler<h4>"
   ]
  },
  {
   "cell_type": "code",
   "execution_count": 6,
   "id": "2e7cd9d2",
   "metadata": {},
   "outputs": [],
   "source": [
    "while t<10:\n",
    "    rate(20)\n",
    "    f1.plot(t, U)\n",
    "    f2.plot(t, KE)\n",
    "    f3.plot(t, U+KE)\n",
    "    for atom in lattice.atoms:\n",
    "        if atom.visible:\n",
    "            atom.pos = atom.pos + (atom.velocity)*dt\n",
    "    for spring in lattice.springs:\n",
    "        spring.axis = spring.points[1].pos - spring.points[0].pos\n",
    "        L = mag(spring.axis)\n",
    "        spring.axis = spring.axis.norm()\n",
    "        spring.pos = spring.points[0].pos+0.15*spring.axis\n",
    "        spring.length = L-atom.radius\n",
    "        Force = spring.axis * (k*dt * (1-distance/L))\n",
    "        \n",
    "        if spring.points[0].visible:\n",
    "            spring.points[0].momentum += Force\n",
    "            spring.points[0].velocity = spring.points[0].momentum/m\n",
    "        if spring.points[1].visible:\n",
    "            spring.points[1].momentum -=  Force\n",
    "            spring.points[1].velocity = spring.points[1].momentum/m\n",
    "            \n",
    "    \n",
    "    v+=(-k)*dx*dt\n",
    "    dx+=v*dt\n",
    "    t+=dt \n",
    "    KE=.5*m*v**2\n",
    "    U=.5*k*dx**2"
   ]
  },
  {
   "cell_type": "markdown",
   "id": "54765611",
   "metadata": {},
   "source": [
    "These results align well with my previous observations. Due to the constant movement in every direction, the net force and therefore net KE is close to 0, because so much of that energy is being oppressed by the corresponding energy. Because of this the Potential energy will be much higher, because if the particle were to free itself from these constraints, the collective net force would all go into one unopposed direction, turning into KE and continuing until another force stopped it."
   ]
  },
  {
   "cell_type": "markdown",
   "id": "fb3ef13d",
   "metadata": {},
   "source": [
    "𝑥 𝑡 + Δ𝑡 = 𝑥 𝑡 + 𝑣(𝑡) Δ𝑡 (Explicit / Forward Euler)\n",
    "𝑥 𝑡 + Δ𝑡 = 𝑥 𝑡 + 𝒗 𝒕 + 𝚫𝒕 ∗ Δ𝑡 (Implicit / Backward Euler)\n",
    "𝑥 𝑡 + Δ𝑡 = 𝑥 𝑡 + 0.5 ∗ 𝑣 𝑡 + 𝒗 𝒕 + 𝜟𝒕 ∗ Δ𝑡 (Trapezoid)"
   ]
  },
  {
   "cell_type": "markdown",
   "id": "9fa7372a",
   "metadata": {},
   "source": [
    "<h4>Backward Euler<h4>"
   ]
  },
  {
   "cell_type": "code",
   "execution_count": 7,
   "id": "fc859eaf",
   "metadata": {},
   "outputs": [
    {
     "data": {
      "text/html": [
       "<div id=\"glowscript\" class=\"glowscript\"></div>"
      ],
      "text/plain": [
       "<IPython.core.display.HTML object>"
      ]
     },
     "metadata": {},
     "output_type": "display_data"
    },
    {
     "data": {
      "application/javascript": [
       "if (typeof Jupyter !== \"undefined\") { window.__context = { glowscript_container: $(\"#glowscript\").removeAttr(\"id\")};}else{ element.textContent = ' ';}"
      ],
      "text/plain": [
       "<IPython.core.display.Javascript object>"
      ]
     },
     "metadata": {},
     "output_type": "display_data"
    }
   ],
   "source": [
    "from vpython import * \n",
    "scene = canvas()"
   ]
  },
  {
   "cell_type": "code",
   "execution_count": 8,
   "id": "72eb49fb",
   "metadata": {},
   "outputs": [],
   "source": [
    "k = 1\n",
    "m = 1\n",
    "distance = 1\n",
    "r = .3\n",
    "Length_spring = 1 - 1.8*.3\n",
    "Volume_spring = pi*(.15)**2*Length_spring\n",
    "dt = .1\n",
    "t = .1\n",
    "U = 0\n",
    "KE = 0\n",
    "spring_max = 0\n",
    "v = 0\n",
    "dx = Length_spring"
   ]
  },
  {
   "cell_type": "code",
   "execution_count": 9,
   "id": "52deadb3",
   "metadata": {},
   "outputs": [],
   "source": [
    "class Crystal:\n",
    "        \n",
    "    def __init__(self, radius, spacing, momentumRange):\n",
    "        self.atoms = []\n",
    "        self.springs = []\n",
    "        \n",
    "        for z in range(-1,4,1):\n",
    "            for y in range(-1,4,1):\n",
    "                for x in range(-1,4,1):\n",
    "                    atom = sphere(pos=vector(x,y,z)*spacing, radius = radius, color = color.blue)\n",
    "                    #only apply velocity to the visible atoms, the remaining atoms will keep the moving atoms in the intended place\n",
    "                    if 0 <= x < 3 and 0 <= y < 3 and 0 <= z < 3:\n",
    "                        p = vec.random()\n",
    "                        atom.momentum = momentumRange*p\n",
    "                        #for m = 1, p = v\n",
    "                        atom.velocity = atom.momentum/m\n",
    "                    else:#outer most layer is invisible\n",
    "                        atom.visible = False\n",
    "                        atom.velocity = vec(0,0,0)\n",
    "                        atom.momentum = vec(0,0,0)\n",
    "                    atom.index = len(self.atoms)\n",
    "                    self.atoms.append(atom)\n",
    "                    \n",
    "        for atom in self.atoms:\n",
    "            #determine if the adjacent atom should be invisible or visible\n",
    "            if atom.visible:\n",
    "                if atom.pos.x == 0 or atom.pos.x == 2:\n",
    "                    self.place_spring(\"x\", atom.pos.x, atom)\n",
    "                else:\n",
    "                    self.make_spring(atom, self.atoms[atom.index+1], True)\n",
    "\n",
    "                if atom.pos.y == 0 or atom.pos.y == 2:\n",
    "                    self.place_spring(\"y\", atom.pos.y, atom)\n",
    "                else:\n",
    "                    self.make_spring(atom, self.atoms[atom.index+(5)], True)\n",
    "                    \n",
    "                if atom.pos.z == 0 or atom.pos.z == 2:\n",
    "                    self.place_spring(\"z\", atom.pos.z, atom)\n",
    "                else:\n",
    "                    self.make_spring(atom, self.atoms[atom.index+(5)**2], True)\n",
    "    \n",
    "    # Create a grid of springs linking each atom to the adjacent atoms\n",
    "    # in each dimension, or to invisible motionless atoms\n",
    "    def make_spring(self, start, end, visible):\n",
    "        spring = helix(pos = start.pos, axis = end.pos-start.pos, visible = visible, points = [start, end], color = color.white)\n",
    "        #spring characteristics for modeling\n",
    "        spring.thickness = 0.05\n",
    "        spring.radius = 0.15\n",
    "        spring.length = distance\n",
    "        self.springs.append(spring)\n",
    "        \n",
    "    def place_spring(self, c, n, atom):\n",
    "        if(c==\"x\" and n==0):\n",
    "            self.make_spring(self.atoms[atom.index-1], atom, False)\n",
    "            self.make_spring(atom, self.atoms[atom.index+1], True)\n",
    "        if(c==\"x\" and n==2):\n",
    "            self.make_spring(atom, self.atoms[atom.index+1], False)\n",
    "        if(c==\"y\" and n==0):\n",
    "            self.make_spring(self.atoms[atom.index-(5)], atom, False)\n",
    "            self.make_spring(atom, self.atoms[atom.index+(5)], True)\n",
    "        if(c==\"y\" and n==2):\n",
    "            self.make_spring(atom, self.atoms[atom.index+(5)], False)\n",
    "        if(c==\"z\" and n==0):\n",
    "            self.make_spring(self.atoms[atom.index-(5)**2], atom, False)\n",
    "            self.make_spring(atom, self.atoms[atom.index+(5)**2], True)\n",
    "        if(c==\"z\" and n==2):\n",
    "            self.make_spring(atom, self.atoms[atom.index+(5)**2], False)\n",
    "        \n"
   ]
  },
  {
   "cell_type": "code",
   "execution_count": 10,
   "id": "3383a349",
   "metadata": {},
   "outputs": [],
   "source": [
    "lattice2 = Crystal(r, distance, 0.1*distance*sqrt(k/m))"
   ]
  },
  {
   "cell_type": "code",
   "execution_count": 11,
   "id": "67ecf501",
   "metadata": {},
   "outputs": [],
   "source": [
    "while t<10:\n",
    "    rate(20)\n",
    "    f4.plot(t, U)\n",
    "    f5.plot(t, KE)\n",
    "    f6.plot(t, U+KE)\n",
    "    for atom in lattice2.atoms:\n",
    "        if atom.visible:\n",
    "            atom.pos = atom.pos + ((atom.velocity)+atom.velocity*dt/t)*dt\n",
    "    for spring in lattice2.springs:\n",
    "        spring.axis = spring.points[1].pos - spring.points[0].pos\n",
    "        L = mag(spring.axis)\n",
    "        spring.axis = spring.axis.norm()\n",
    "        spring.pos = spring.points[0].pos+0.15*spring.axis\n",
    "        spring.length = L-atom.radius\n",
    "        Force = spring.axis * (k*dt * (1-distance/L))\n",
    "        \n",
    "        if spring.points[0].visible:\n",
    "            spring.points[0].momentum += Force\n",
    "            spring.points[0].velocity = spring.points[0].momentum/m\n",
    "        if spring.points[1].visible:\n",
    "            spring.points[1].momentum -=  Force\n",
    "            spring.points[1].velocity = spring.points[1].momentum/m\n",
    "            \n",
    "    \n",
    "    v+=(-k)*dx*dt\n",
    "    dx+=v*(t+dt)*dt\n",
    "    t+=dt \n",
    "    KE=.5*m*v**2\n",
    "    U=.5*k*dx**2"
   ]
  },
  {
   "cell_type": "markdown",
   "id": "bf38f83a",
   "metadata": {},
   "source": [
    "Using the Backwards Euler formula, the Energy plot yields different results than seen in forward. Although when initially researching the topic it seemed as the Backwards Euler would yield better results for larger time steps than Forward, I found that smaller time steps seem to make the curve smoother and yields clearer results. Trying a time step of dt=1 results in no graph being able to be plotted, and a time step of dt=.5 results in a similar curve with less points, forming a group of very jagged points. Total Energy in this case also seems to constantly increase, even though the movement of the cube does not strike me as all that different."
   ]
  },
  {
   "cell_type": "markdown",
   "id": "51646726",
   "metadata": {},
   "source": [
    "<h2>Trapezoid<h2>"
   ]
  },
  {
   "cell_type": "code",
   "execution_count": 12,
   "id": "90bf1762",
   "metadata": {},
   "outputs": [
    {
     "data": {
      "text/html": [
       "<div id=\"glowscript\" class=\"glowscript\"></div>"
      ],
      "text/plain": [
       "<IPython.core.display.HTML object>"
      ]
     },
     "metadata": {},
     "output_type": "display_data"
    },
    {
     "data": {
      "application/javascript": [
       "if (typeof Jupyter !== \"undefined\") { window.__context = { glowscript_container: $(\"#glowscript\").removeAttr(\"id\")};}else{ element.textContent = ' ';}"
      ],
      "text/plain": [
       "<IPython.core.display.Javascript object>"
      ]
     },
     "metadata": {},
     "output_type": "display_data"
    }
   ],
   "source": [
    "from vpython import * \n",
    "scene = canvas()"
   ]
  },
  {
   "cell_type": "code",
   "execution_count": 13,
   "id": "eeaabf5f",
   "metadata": {},
   "outputs": [],
   "source": [
    "k = 1\n",
    "m = 1\n",
    "distance = 1\n",
    "r = .3\n",
    "Length_spring = 1 - 1.8*.3\n",
    "Volume_spring = pi*(.15)**2*Length_spring\n",
    "dt = .1\n",
    "t = .1\n",
    "U = 0\n",
    "KE = 0\n",
    "spring_max = 0\n",
    "v = 0\n",
    "dx = Length_spring"
   ]
  },
  {
   "cell_type": "code",
   "execution_count": 14,
   "id": "c66939d8",
   "metadata": {},
   "outputs": [],
   "source": [
    "class Crystal:\n",
    "        \n",
    "    def __init__(self, radius, spacing, momentumRange):\n",
    "        self.atoms = []\n",
    "        self.springs = []\n",
    "        \n",
    "        for z in range(-1,4,1):\n",
    "            for y in range(-1,4,1):\n",
    "                for x in range(-1,4,1):\n",
    "                    atom = sphere(pos=vector(x,y,z)*spacing, radius = radius, color = color.blue)\n",
    "                    #only apply velocity to the visible atoms, the remaining atoms will keep the moving atoms in the intended place\n",
    "                    if 0 <= x < 3 and 0 <= y < 3 and 0 <= z < 3:\n",
    "                        p = vec.random()\n",
    "                        atom.momentum = momentumRange*p\n",
    "                        #for m = 1, p = v\n",
    "                        atom.velocity = atom.momentum/m\n",
    "                    else:#outer most layer is invisible\n",
    "                        atom.visible = False\n",
    "                        atom.velocity = vec(0,0,0)\n",
    "                        atom.momentum = vec(0,0,0)\n",
    "                    atom.index = len(self.atoms)\n",
    "                    self.atoms.append(atom)\n",
    "                    \n",
    "        for atom in self.atoms:\n",
    "            #determine if the adjacent atom should be invisible or visible\n",
    "            if atom.visible:\n",
    "                if atom.pos.x == 0 or atom.pos.x == 2:\n",
    "                    self.place_spring(\"x\", atom.pos.x, atom)\n",
    "                else:\n",
    "                    self.make_spring(atom, self.atoms[atom.index+1], True)\n",
    "\n",
    "                if atom.pos.y == 0 or atom.pos.y == 2:\n",
    "                    self.place_spring(\"y\", atom.pos.y, atom)\n",
    "                else:\n",
    "                    self.make_spring(atom, self.atoms[atom.index+(5)], True)\n",
    "                    \n",
    "                if atom.pos.z == 0 or atom.pos.z == 2:\n",
    "                    self.place_spring(\"z\", atom.pos.z, atom)\n",
    "                else:\n",
    "                    self.make_spring(atom, self.atoms[atom.index+(5)**2], True)\n",
    "    \n",
    "    # Create a grid of springs linking each atom to the adjacent atoms\n",
    "    # in each dimension, or to invisible motionless atoms\n",
    "    def make_spring(self, start, end, visible):\n",
    "        spring = helix(pos = start.pos, axis = end.pos-start.pos, visible = visible, points = [start, end], color = color.white)\n",
    "        #spring characteristics for modeling\n",
    "        spring.thickness = 0.05\n",
    "        spring.radius = 0.15\n",
    "        spring.length = distance\n",
    "        self.springs.append(spring)\n",
    "        \n",
    "    def place_spring(self, c, n, atom):\n",
    "        if(c==\"x\" and n==0):\n",
    "            self.make_spring(self.atoms[atom.index-1], atom, False)\n",
    "            self.make_spring(atom, self.atoms[atom.index+1], True)\n",
    "        if(c==\"x\" and n==2):\n",
    "            self.make_spring(atom, self.atoms[atom.index+1], False)\n",
    "        if(c==\"y\" and n==0):\n",
    "            self.make_spring(self.atoms[atom.index-(5)], atom, False)\n",
    "            self.make_spring(atom, self.atoms[atom.index+(5)], True)\n",
    "        if(c==\"y\" and n==2):\n",
    "            self.make_spring(atom, self.atoms[atom.index+(5)], False)\n",
    "        if(c==\"z\" and n==0):\n",
    "            self.make_spring(self.atoms[atom.index-(5)**2], atom, False)\n",
    "            self.make_spring(atom, self.atoms[atom.index+(5)**2], True)\n",
    "        if(c==\"z\" and n==2):\n",
    "            self.make_spring(atom, self.atoms[atom.index+(5)**2], False)\n",
    "        \n"
   ]
  },
  {
   "cell_type": "code",
   "execution_count": 15,
   "id": "d7cfc763",
   "metadata": {},
   "outputs": [],
   "source": [
    "lattice2 = Crystal(r, distance, 0.1*distance*sqrt(k/m))"
   ]
  },
  {
   "cell_type": "code",
   "execution_count": 16,
   "id": "169807c0",
   "metadata": {},
   "outputs": [],
   "source": [
    "while t<10:\n",
    "    rate(20)\n",
    "    f7.plot(t, U)\n",
    "    f8.plot(t, KE)\n",
    "    f9.plot(t, U+KE)\n",
    "    for atom in lattice2.atoms:\n",
    "        if atom.visible:\n",
    "            atom.pos =  atom.pos + .5*(atom.velocity+((atom.velocity)+atom.velocity*dt/t))*dt\n",
    "    for spring in lattice2.springs:\n",
    "        spring.axis = spring.points[1].pos - spring.points[0].pos\n",
    "        L = mag(spring.axis)\n",
    "        spring.axis = spring.axis.norm()\n",
    "        spring.pos = spring.points[0].pos+0.15*spring.axis\n",
    "        spring.length = L-atom.radius\n",
    "        Force = spring.axis * (k*dt * (1-distance/L))\n",
    "        \n",
    "        if spring.points[0].visible:\n",
    "            spring.points[0].momentum += Force\n",
    "            spring.points[0].velocity = spring.points[0].momentum/m\n",
    "        if spring.points[1].visible:\n",
    "            spring.points[1].momentum -=  Force\n",
    "            spring.points[1].velocity = spring.points[1].momentum/m\n",
    "            \n",
    "    \n",
    "    v+=(-k)*dx*dt\n",
    "    dx+=.5*(v*(t)+v*(t+dt))*dt\n",
    "    t+=dt \n",
    "    KE=.5*m*v**2\n",
    "    U=.5*k*dx**2"
   ]
  },
  {
   "cell_type": "markdown",
   "id": "b34fd6c2",
   "metadata": {},
   "source": [
    "Comparing the results of the trapezoid to the other two methods (Forward and Backward Euler), we can see that it bares a much similar resemblence to the graph in the Backwards Euler method rather than the forward. The reason I choose the trapezoid equation was because of it resembles a mixture of the Forward and Backward as an average, to the naked eye. I figured this would make a strong comparison to the other two. Furthermore, we can take away that the later two methods assume that some unknown value is also being accounted for, and is constantly transfering some form of energy into the system. This would make sense, although over time in reality I feel as though this should decrease, there are constantly atoms being rearranged and restructured due to humanity, which means this may be a more realistic result, while the forward method seems to adopt a ideal world point of view. "
   ]
  },
  {
   "cell_type": "markdown",
   "id": "7df5f6b6",
   "metadata": {},
   "source": [
    "<h2>Damped Springs<h2>"
   ]
  },
  {
   "cell_type": "code",
   "execution_count": 17,
   "id": "9e0e8084",
   "metadata": {},
   "outputs": [
    {
     "data": {
      "text/html": [
       "<div id=\"glowscript\" class=\"glowscript\"></div>"
      ],
      "text/plain": [
       "<IPython.core.display.HTML object>"
      ]
     },
     "metadata": {},
     "output_type": "display_data"
    },
    {
     "data": {
      "application/javascript": [
       "if (typeof Jupyter !== \"undefined\") { window.__context = { glowscript_container: $(\"#glowscript\").removeAttr(\"id\")};}else{ element.textContent = ' ';}"
      ],
      "text/plain": [
       "<IPython.core.display.Javascript object>"
      ]
     },
     "metadata": {},
     "output_type": "display_data"
    }
   ],
   "source": [
    "from vpython import * \n",
    "scene = canvas()"
   ]
  },
  {
   "cell_type": "code",
   "execution_count": 18,
   "id": "02841134",
   "metadata": {},
   "outputs": [],
   "source": [
    "k = 1\n",
    "m = 1\n",
    "distance = 1\n",
    "r = .3\n",
    "Length_spring = 1 - 1.8*.3\n",
    "Volume_spring = pi*(.15)**2*Length_spring\n",
    "dt = .1\n",
    "t = .1\n",
    "U = 0\n",
    "KE = 0\n",
    "spring_max = 0\n",
    "v = 0\n",
    "a=0\n",
    "dx = Length_spring\n",
    "critical_c = -2*(k)**.5\n",
    "c = .5*critical_c"
   ]
  },
  {
   "cell_type": "code",
   "execution_count": 19,
   "id": "beef6cc6",
   "metadata": {},
   "outputs": [],
   "source": [
    "class Crystal:\n",
    "        \n",
    "    def __init__(self, radius, spacing, momentumRange):\n",
    "        self.atoms = []\n",
    "        self.springs = []\n",
    "        \n",
    "        for z in range(-1,4,1):\n",
    "            for y in range(-1,4,1):\n",
    "                for x in range(-1,4,1):\n",
    "                    atom = sphere(pos=vector(x,y,z)*spacing, radius = radius, color = color.blue)\n",
    "                    #only apply velocity to the visible atoms, the remaining atoms will keep the moving atoms in the intended place\n",
    "                    if 0 <= x < 3 and 0 <= y < 3 and 0 <= z < 3:\n",
    "                        p = vec.random()\n",
    "                        atom.momentum = momentumRange*p\n",
    "                        #for m = 1, p = v\n",
    "                        atom.velocity = atom.momentum/m\n",
    "                    else:#outer most layer is invisible\n",
    "                        atom.visible = False\n",
    "                        atom.velocity = vec(0,0,0)\n",
    "                        atom.momentum = vec(0,0,0)\n",
    "                    atom.index = len(self.atoms)\n",
    "                    self.atoms.append(atom)\n",
    "                    \n",
    "        for atom in self.atoms:\n",
    "            #determine if the adjacent atom should be invisible or visible\n",
    "            if atom.visible:\n",
    "                if atom.pos.x == 0 or atom.pos.x == 2:\n",
    "                    self.place_spring(\"x\", atom.pos.x, atom)\n",
    "                else:\n",
    "                    self.make_spring(atom, self.atoms[atom.index+1], True)\n",
    "\n",
    "                if atom.pos.y == 0 or atom.pos.y == 2:\n",
    "                    self.place_spring(\"y\", atom.pos.y, atom)\n",
    "                else:\n",
    "                    self.make_spring(atom, self.atoms[atom.index+(5)], True)\n",
    "                    \n",
    "                if atom.pos.z == 0 or atom.pos.z == 2:\n",
    "                    self.place_spring(\"z\", atom.pos.z, atom)\n",
    "                else:\n",
    "                    self.make_spring(atom, self.atoms[atom.index+(5)**2], True)\n",
    "    \n",
    "    # Create a grid of springs linking each atom to the adjacent atoms\n",
    "    # in each dimension, or to invisible motionless atoms\n",
    "    def make_spring(self, start, end, visible):\n",
    "        spring = helix(pos = start.pos, axis = end.pos-start.pos, visible = visible, points = [start, end], color = color.white)\n",
    "        #spring characteristics for modeling\n",
    "        spring.thickness = 0.05\n",
    "        spring.radius = 0.15\n",
    "        spring.length = distance\n",
    "        self.springs.append(spring)\n",
    "        \n",
    "    def place_spring(self, c, n, atom):\n",
    "        if(c==\"x\" and n==0):\n",
    "            self.make_spring(self.atoms[atom.index-1], atom, False)\n",
    "            self.make_spring(atom, self.atoms[atom.index+1], True)\n",
    "        if(c==\"x\" and n==2):\n",
    "            self.make_spring(atom, self.atoms[atom.index+1], False)\n",
    "        if(c==\"y\" and n==0):\n",
    "            self.make_spring(self.atoms[atom.index-(5)], atom, False)\n",
    "            self.make_spring(atom, self.atoms[atom.index+(5)], True)\n",
    "        if(c==\"y\" and n==2):\n",
    "            self.make_spring(atom, self.atoms[atom.index+(5)], False)\n",
    "        if(c==\"z\" and n==0):\n",
    "            self.make_spring(self.atoms[atom.index-(5)**2], atom, False)\n",
    "            self.make_spring(atom, self.atoms[atom.index+(5)**2], True)\n",
    "        if(c==\"z\" and n==2):\n",
    "            self.make_spring(atom, self.atoms[atom.index+(5)**2], False)\n",
    "        \n"
   ]
  },
  {
   "cell_type": "code",
   "execution_count": 20,
   "id": "2fbe131c",
   "metadata": {},
   "outputs": [],
   "source": [
    "lattice2 = Crystal(r, distance, 0.1*distance*sqrt(k/m))"
   ]
  },
  {
   "cell_type": "code",
   "execution_count": 21,
   "id": "9632e1b9",
   "metadata": {},
   "outputs": [],
   "source": [
    "while t<10:\n",
    "    rate(20)\n",
    "    f10.plot(t, U)\n",
    "    f11.plot(t, KE)\n",
    "    f12.plot(t, U+KE)\n",
    "    for atom in lattice2.atoms:\n",
    "        if atom.visible:\n",
    "            atom.pos =  atom.pos + atom.velocity*dt + .5*atom.velocity*dt**2\n",
    "    for spring in lattice2.springs:\n",
    "        spring.axis = spring.points[1].pos - spring.points[0].pos\n",
    "        L = mag(spring.axis)\n",
    "        spring.axis = spring.axis.norm()\n",
    "        spring.pos = spring.points[0].pos+0.15*spring.axis\n",
    "        spring.length = L-atom.radius\n",
    "        Force = spring.axis * (k*dt * (1-distance/L))\n",
    "        \n",
    "        if spring.points[0].visible:\n",
    "            spring.points[0].momentum += Force\n",
    "            spring.points[0].velocity = spring.points[0].momentum/m\n",
    "        if spring.points[1].visible:\n",
    "            spring.points[1].momentum -=  Force\n",
    "            spring.points[1].velocity = spring.points[1].momentum/m\n",
    "    #where c is a constant determined by 2*sqrt(k*m) and where m=1        \n",
    "    a=(-k*dx+c*v)/m\n",
    "    v+=a*dt\n",
    "    dx+=v*dt\n",
    "    t+=dt \n",
    "    KE=.5*m*v**2\n",
    "    U=.5*k*dx**2"
   ]
  },
  {
   "cell_type": "markdown",
   "id": "25f94874",
   "metadata": {},
   "source": [
    "The critical damping constant can be found by taking the sqrt of k x m and multiplying it by 2. Once this number is aquired, any number with a ratio between .3 and .7 can be considered a good dampening constant for constant/critical_constant. in order to do this i just took half the critical constant for a dampening constant of .5. using this we can see that the energy exponentially dissapates from the system due to the atoms using the energy they initially have to move the springs, transferring and releasing said energy. This would be a good example of atoms coming to rest after a person has walked directly next to them. However due to the constant motion of objects on the planet, the likelihood of the atoms coming to a full stop is almost zero."
   ]
  },
  {
   "cell_type": "markdown",
   "id": "4f3f75c8",
   "metadata": {},
   "source": [
    "<h1>References<h1>"
   ]
  },
  {
   "cell_type": "markdown",
   "id": "bce829a2",
   "metadata": {},
   "source": [
    "https://www.youtube.com/watch?v=BIhS5atvK1o"
   ]
  },
  {
   "cell_type": "markdown",
   "id": "b20999aa",
   "metadata": {},
   "source": [
    "https://eng.libretexts.org/Bookshelves/Electrical_Engineering/Signal_Processing_and_Modeling/Introduction_to_Linear_Time-Invariant_Dynamic_Systems_for_Students_of_Engineering_(Hallauer)/12%3A_Vibration_Modes_of_Undamped_Mechanical_Systems_with_Two_Degrees_of_Freedom/12.02%3A_Undamped_Two-Mass-Two-Spring_System"
   ]
  },
  {
   "cell_type": "markdown",
   "id": "dfb24917",
   "metadata": {},
   "source": [
    "https://punchlistzero.com/damping-coefficient/#:~:text=A%20damping%20ratio%20of%201%20is%20ideal%20and,good%20damping%20have%20values%20between%200.3%20and%200.7."
   ]
  },
  {
   "cell_type": "markdown",
   "id": "e37b3007",
   "metadata": {},
   "source": [
    "https://www.glowscript.org/#/user/matterandinteractions/folder/matterandinteractions/program/04-ball-and-spring-model"
   ]
  },
  {
   "cell_type": "markdown",
   "id": "5574faca",
   "metadata": {},
   "source": [
    "https://math.stackexchange.com/questions/61638/whats-the-difference-between-explicit-and-implicit-runge-kutta-methods#:~:text=The%20Euler%20method%20is%20an%20explicit%20method%20in,consider%20both%2C%20when%20the%20explicit%20methods%20look%20simpler%3F"
   ]
  },
  {
   "cell_type": "markdown",
   "id": "0abefeda",
   "metadata": {},
   "source": [
    "https://www.watelectronics.com/damping-ratio/#:~:text=Definition%3A%20The%20damping%20ratio%20is%20defined%20as%20the,For%20example%2C%20suspension%20of%20mass%20from%20a%20spring."
   ]
  },
  {
   "cell_type": "markdown",
   "id": "96dd6f4a",
   "metadata": {},
   "source": [
    "https://www.youtube.com/watch?v=_CDxdUgUNBA"
   ]
  },
  {
   "cell_type": "markdown",
   "id": "a86e95d2",
   "metadata": {},
   "source": [
    "https://www.youtube.com/watch?v=Cbaz95n2-fk"
   ]
  },
  {
   "cell_type": "code",
   "execution_count": null,
   "id": "198df7a4",
   "metadata": {},
   "outputs": [],
   "source": []
  }
 ],
 "metadata": {
  "kernelspec": {
   "display_name": "Python 3 (ipykernel)",
   "language": "python",
   "name": "python3"
  },
  "language_info": {
   "codemirror_mode": {
    "name": "ipython",
    "version": 3
   },
   "file_extension": ".py",
   "mimetype": "text/x-python",
   "name": "python",
   "nbconvert_exporter": "python",
   "pygments_lexer": "ipython3",
   "version": "3.9.13"
  }
 },
 "nbformat": 4,
 "nbformat_minor": 5
}

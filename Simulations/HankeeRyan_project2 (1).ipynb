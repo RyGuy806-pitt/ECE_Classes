{
 "cells": [
  {
   "cell_type": "markdown",
   "id": "c82e743f",
   "metadata": {},
   "source": [
    "<h1>Part 1<h1>"
   ]
  },
  {
   "cell_type": "code",
   "execution_count": 1,
   "id": "78d01cc1",
   "metadata": {},
   "outputs": [
    {
     "data": {
      "text/html": [
       "<div id=\"glowscript\" class=\"glowscript\"></div>"
      ],
      "text/plain": [
       "<IPython.core.display.HTML object>"
      ]
     },
     "metadata": {},
     "output_type": "display_data"
    },
    {
     "data": {
      "application/javascript": [
       "if (typeof Jupyter !== \"undefined\") { window.__context = { glowscript_container: $(\"#glowscript\").removeAttr(\"id\")};}else{ element.textContent = ' ';}"
      ],
      "text/plain": [
       "<IPython.core.display.Javascript object>"
      ]
     },
     "metadata": {},
     "output_type": "display_data"
    },
    {
     "data": {
      "text/html": [
       "<div id=\"glowscript\" class=\"glowscript\"></div>"
      ],
      "text/plain": [
       "<IPython.core.display.HTML object>"
      ]
     },
     "metadata": {},
     "output_type": "display_data"
    },
    {
     "data": {
      "application/javascript": [
       "if (typeof Jupyter !== \"undefined\") { window.__context = { glowscript_container: $(\"#glowscript\").removeAttr(\"id\")};}else{ element.textContent = ' ';}"
      ],
      "text/plain": [
       "<IPython.core.display.Javascript object>"
      ]
     },
     "metadata": {},
     "output_type": "display_data"
    }
   ],
   "source": [
    "from vpython import * \n",
    "scene = canvas(width=800, length=800)"
   ]
  },
  {
   "cell_type": "code",
   "execution_count": 2,
   "id": "9af0500c",
   "metadata": {},
   "outputs": [
    {
     "data": {
      "application/javascript": [
       "if (typeof Jupyter !== \"undefined\") {require.undef(\"nbextensions/vpython_libraries/glow.min\");}else{element.textContent = ' ';}"
      ],
      "text/plain": [
       "<IPython.core.display.Javascript object>"
      ]
     },
     "metadata": {},
     "output_type": "display_data"
    },
    {
     "data": {
      "application/javascript": [
       "if (typeof Jupyter !== \"undefined\") {require.undef(\"nbextensions/vpython_libraries/glowcomm\");}else{element.textContent = ' ';}"
      ],
      "text/plain": [
       "<IPython.core.display.Javascript object>"
      ]
     },
     "metadata": {},
     "output_type": "display_data"
    },
    {
     "data": {
      "application/javascript": [
       "if (typeof Jupyter !== \"undefined\") {require.undef(\"nbextensions/vpython_libraries/jquery-ui.custom.min\");}else{element.textContent = ' ';}"
      ],
      "text/plain": [
       "<IPython.core.display.Javascript object>"
      ]
     },
     "metadata": {},
     "output_type": "display_data"
    },
    {
     "data": {
      "application/javascript": [
       "if (typeof Jupyter !== \"undefined\") {require([\"nbextensions/vpython_libraries/glow.min\"], function(){console.log(\"GLOW LOADED\");});}else{element.textContent = ' ';}"
      ],
      "text/plain": [
       "<IPython.core.display.Javascript object>"
      ]
     },
     "metadata": {},
     "output_type": "display_data"
    },
    {
     "data": {
      "application/javascript": [
       "if (typeof Jupyter !== \"undefined\") {require([\"nbextensions/vpython_libraries/glowcomm\"], function(){console.log(\"GLOWCOMM LOADED\");});}else{element.textContent = ' ';}"
      ],
      "text/plain": [
       "<IPython.core.display.Javascript object>"
      ]
     },
     "metadata": {},
     "output_type": "display_data"
    },
    {
     "data": {
      "application/javascript": [
       "if (typeof Jupyter !== \"undefined\") {require([\"nbextensions/vpython_libraries/jquery-ui.custom.min\"], function(){console.log(\"JQUERY LOADED\");});}else{element.textContent = ' ';}"
      ],
      "text/plain": [
       "<IPython.core.display.Javascript object>"
      ]
     },
     "metadata": {},
     "output_type": "display_data"
    }
   ],
   "source": [
    "G = 6.67e-11 #Gravitational Constant\n",
    "MassEarth = 5.972e24 #Mass of Earth\n",
    "RadiusEarth = 6.378e6 #Radius of Earth\n",
    "earth = sphere(pos=vector(0,0,0), radius=RadiusEarth, color=color.cyan)\n",
    "t = 0\n",
    "dt = 100\n",
    "day = 24*3600\n",
    "\n",
    "#Orbital Velocity\n",
    "Circular_orbit = sphere(pos=vector(RadiusEarth*1.5,0,0), radius=RadiusEarth/20, color=color.green, make_trail=True )\n",
    "Circular_orbit.m = 1000\n",
    "v_Circ = sqrt(1*G*MassEarth/(RadiusEarth*1.5))\n",
    "Circular_orbit.p = Circular_orbit.m*v_Circ*vector(0,1,0)\n",
    "\n",
    "#Between Escape and Orbital Velocity\n",
    "Elongated_orbit = sphere(pos=vector(RadiusEarth*1.5,0,0), radius=RadiusEarth/20, color=color.yellow, make_trail=True )\n",
    "Elongated_orbit.m = 1000\n",
    "v_Elong = sqrt(1.5*G*MassEarth/(RadiusEarth*1.5))\n",
    "Elongated_orbit.p = Elongated_orbit.m*v_Elong*vector(0,1,0)\n",
    "\n",
    "#Escape Velocity\n",
    "Escape_orbit = sphere(pos=vector(RadiusEarth*1.5,0,0), radius=RadiusEarth/20, color=color.red, make_trail=True )\n",
    "Escape_orbit.m = 1000\n",
    "v_Escape = sqrt(2*G*MassEarth/(RadiusEarth*1.5))\n",
    "Escape_orbit.p = Escape_orbit.m*v_Escape*vector(0,1,0)\n",
    "\n",
    "sats = [Circular_orbit, Elongated_orbit, Escape_orbit]\n",
    "\n",
    "while t < .25*day:\n",
    "    rate(100)\n",
    "    for planet in sats:\n",
    "        r = planet.pos - earth.pos\n",
    "        F = -G*MassEarth*planet.m*norm(r)/mag(r)**2\n",
    "        planet.p = planet.p + F*dt\n",
    "        planet.pos = planet.pos + planet.p*dt/planet.m\n",
    "    t = t + dt"
   ]
  },
  {
   "cell_type": "markdown",
   "id": "c41e986b",
   "metadata": {},
   "source": [
    "<h3>References:<h3>"
   ]
  },
  {
   "cell_type": "markdown",
   "id": "bdb9d95b",
   "metadata": {},
   "source": [
    "    https://www.youtube.com/watch?v=WYbTki3Mbd0\n",
    "    https://enochko.com/blog/newtons-cannonball-and-orbital-velocity"
   ]
  },
  {
   "cell_type": "markdown",
   "id": "4538c3e0",
   "metadata": {},
   "source": [
    "<h2> 1a <h2>"
   ]
  },
  {
   "cell_type": "markdown",
   "id": "a60baac0",
   "metadata": {},
   "source": [
    "In order to make sure the velocities were relevant between the 3 different orbiting objects, I made sure to assign all 3 of them the same mass. Because of this, as long as any of their velocities meet this condition they should be in orbit: sqrt(2*G*MassEarth/(distance between centers)) > v >= sqrt(G*MassEarth/(distance between centers)). If it goes below that threshold, it will fall to earth, and going above that threshold will result in it escaping the gravitational pull of the Earth."
   ]
  },
  {
   "cell_type": "markdown",
   "id": "206a4bdb",
   "metadata": {},
   "source": [
    "<h1>Part 2<h1>"
   ]
  },
  {
   "cell_type": "code",
   "execution_count": 3,
   "id": "f648ea59",
   "metadata": {},
   "outputs": [
    {
     "data": {
      "text/html": [
       "<div id=\"glowscript\" class=\"glowscript\"></div>"
      ],
      "text/plain": [
       "<IPython.core.display.HTML object>"
      ]
     },
     "metadata": {},
     "output_type": "display_data"
    },
    {
     "data": {
      "application/javascript": [
       "if (typeof Jupyter !== \"undefined\") { window.__context = { glowscript_container: $(\"#glowscript\").removeAttr(\"id\")};}else{ element.textContent = ' ';}"
      ],
      "text/plain": [
       "<IPython.core.display.Javascript object>"
      ]
     },
     "metadata": {},
     "output_type": "display_data"
    }
   ],
   "source": [
    "from vpython import * \n",
    "scene = canvas()"
   ]
  },
  {
   "cell_type": "code",
   "execution_count": 4,
   "id": "173a436f",
   "metadata": {},
   "outputs": [],
   "source": [
    "g1 = graph(xtitle=\"t [s]\", ytitle=\"x: m*g/s^2\",width=500, height=150)\n",
    "f1 = gcurve(color=color.red)\n",
    "f2 = gcurve(color=color.green)\n",
    "f3 = gcurve(color=color.blue)\n",
    "f4 = gcurve(color=color.orange)\n",
    "g2 = graph(xtitle=\"t [s]\", ytitle=\"y: m*g/s^2\",width=500, height=150)\n",
    "h1 = gcurve(color=color.red)\n",
    "h2 = gcurve(color=color.green)\n",
    "h3 = gcurve(color=color.blue)\n",
    "h4 = gcurve(color=color.orange)\n",
    "g3 = graph(xtitle=\"t [s]\", ytitle=\"z: m*g/s^2\",width=500, height=150)\n",
    "i1 = gcurve(color=color.red)\n",
    "i2 = gcurve(color=color.green)\n",
    "i3 = gcurve(color=color.blue)\n",
    "i4 = gcurve(color=color.orange)\n",
    "\n",
    "\n",
    "#Constants\n",
    "G = 6.67e-11 #Gravitational Constant\n",
    "t = 0 #Total Time\n",
    "dt = 1000\n",
    "day = 24*3600 #24 hours/day * 60 minutes/hour * 60 seconds/minute\n",
    "Scalar = 1 #Unnecessary, but fun\n",
    "\n",
    "class CelestialBody:\n",
    "    def __init__(self, name, radius, color, mass, x, y, z, vx, vy, vz):\n",
    "        self.name = name\n",
    "        #Individual Position Values\n",
    "        self.x = x *Scalar\n",
    "        self.y = y *Scalar\n",
    "        self.z = z *Scalar\n",
    "        #Individual Velocities values\n",
    "        self.vx = vx\n",
    "        self.vy = vy\n",
    "        self.vz = vz\n",
    "        #Remaining Attributes\n",
    "        self.radius = radius *Scalar\n",
    "        self.color = color\n",
    "        self.mass = mass        \n",
    "        self.sun = False\n",
    "        #Physical Object\n",
    "        self.body = sphere(pos=vector(self.x,self.y,self.z),v=vector(self.vx, self.vy, self.vz), radius=self.radius, color=self.color, make_trail=True)\n",
    "        #Momentum Attribute\n",
    "        self.p = self.mass*vector(vx, vy, vz)\n",
    "\n",
    "def force(planet1, planet2):\n",
    "    #Find the distance Between the two plannets\n",
    "    r = planet2.body.pos - planet1.body.pos\n",
    "    #Use that value in the Gravitational Force Equation\n",
    "    F = -G*planet1.mass*planet2.mass*norm(r)/mag(r)**2\n",
    "    #Return Force\n",
    "    return F"
   ]
  },
  {
   "cell_type": "code",
   "execution_count": 5,
   "id": "3155a09b",
   "metadata": {},
   "outputs": [],
   "source": [
    "#THE SUN\n",
    "#X = 0 Y=0 Z=0\n",
    "#VX= 1.385054370466559E-02 VY=-7.319993523132008E-03 VZ=-3.038002965875808E-04\n",
    "Sun = CelestialBody(\"Sun\", 696500000, color.yellow, 1988500e24, 0, 0, 0, 0, 0, 0)\n",
    "Sun.sun = True\n",
    "\n",
    "#MERCURY\n",
    "#Re = 2440 km\n",
    "#mass = Mass x10^23 (kg)      =    3.302\n",
    "#X =-4.086215444623475E10 Y =-5.468026276002236E10 Z =-7.163838407522626E8\n",
    "#VX= 2.916159519432487E4 VY=-2.687497368311812E4 VZ=-4.871972862676751E3\n",
    "Mercury = CelestialBody(\"Mercury\", 2440000, color.red, 3302e20, -4.086215444623475E10, -5.468026276002236E10, -7.163838407522626E8, 2.916159519432487E4, -2.687497368311812E4, -4.871972862676751E3)\n",
    "\n",
    "#VENUS\n",
    "#Re = 6051.893 km\n",
    "#mass = Mass x10^23 (kg)      =    48.685\n",
    "#X = 1.055042815487551E11 Y = 2.489283295267211E10 Z =-5.749516117964748E9\n",
    "#VX=-8.167842375036168E3 VY= 3.392729624823908E2 VZ= 9.351634440377126E2\n",
    "Venus = CelestialBody(\"Venus\", 6052893, color.green, 48.685E23, 1.055042815487551E11, 2.489283295267211E10, -5.749516117964748E9, -8.167842375036168E3, 3.392729624823908E4, 9.351634440377126E2)\n",
    "\n",
    "#EARTH\n",
    "#RE = Equ. radius, km          = 6378.137\n",
    "#mass = Mass x10^24 (kg)= 5.97219+-0.0006\n",
    "#X = 2.748580826615163E10 Y = 1.447093411646223E11 Z =-1.686289414539933E5\n",
    "#VX=-2.973855438802174E4 VY= 5.444663233736494E3 VZ=-1.043532207797515\n",
    "Earth = CelestialBody(\"Earth\", 6378137, color.blue, 5.97219E24, 2.748580826615163E10, 1.447093411646223E11, -1.686289414539933E5, -2.973855438802174E4, 5.444663233736494E3, -1.043532207797515)\n",
    "\n",
    "#MARS\n",
    "#Equatorial radius (km)=  3396.19\n",
    "#Mass x10^23 (kg)      =    6.4171  \n",
    "#X =-2.460518722645015E11 Y = 3.150832360855886E10 Z = 6.7076550927805049\n",
    "#VX=-2.168026512208927E3 VY=-2.196552726402624E4 VZ=-4.068318258020041E2\n",
    "Mars = CelestialBody(\"Mars\", 3396190, color.orange, 64171e20, -2.460518722645015E11, 3.150832360855886E10, 6.7076550927805049, -2.168026512208927E3, -2.196552726402624E4, -4.068318258020041E2)\n",
    "\n",
    "planets = [Sun, Venus, Mercury, Earth, Mars]\n",
    "\n",
    "#Scaling of virtual radius, not class radius\n",
    "Sun.body.radius = Sun.body.radius*20\n",
    "Mercury.body.radius = Mercury.body.radius *1000\n",
    "Venus.body.radius = Venus.body.radius *1000\n",
    "Earth.body.radius = Earth.body.radius *1000\n",
    "Mars.body.radius = Mars.body.radius *1000"
   ]
  },
  {
   "cell_type": "code",
   "execution_count": 6,
   "id": "a0388650",
   "metadata": {},
   "outputs": [
    {
     "name": "stdout",
     "output_type": "stream",
     "text": [
      "Venus at .5 Earth Orbit's time\n",
      "x\n",
      "63918985381.78713\n",
      "63248913466.51598\n",
      "y\n",
      "-88150140364.92322\n",
      "-88565201291.85867\n",
      "z\n",
      "-4894764799.171396\n",
      "-4861624340.162829\n",
      "Mercury at .5 Earth Orbit's time\n",
      "simulation value first, actual value second\n",
      "x\n",
      "-22477259328.655884\n",
      "-26023588789.6051\n",
      "y\n",
      "-65899775731.05742\n",
      "-149642563851.7623\n",
      "z\n",
      "-3320687802.2291083\n",
      "1098914.94230926\n",
      "Earth at .5 Earth Orbit's time\n",
      "x\n",
      "-24572704391.660603\n",
      "-26023588789.6051\n",
      "y\n",
      "-149808795397.58185\n",
      "-149642563851.7623\n",
      "z\n",
      "716206.5021243066\n",
      "1098914.94230926\n",
      "Earth at .5 Earth Orbit's time\n",
      "x\n",
      "-32580370946.081623\n",
      "-33656007608.65995\n",
      "y\n",
      "-218037328885.10303\n",
      "-217919584983.5298\n",
      "z\n",
      "-4064249741.8275948\n",
      "-3737323492.51169\n"
     ]
    }
   ],
   "source": [
    "while t < 185*day:\n",
    "    rate(1000)\n",
    "    f1.plot(t, Mercury.p.x)\n",
    "    f2.plot(t, Venus.p.x)\n",
    "    f3.plot(t, Earth.p.x)\n",
    "    f4.plot(t, Mars.p.x)\n",
    "    h1.plot(t, Mercury.p.y)\n",
    "    h2.plot(t, Venus.p.y)\n",
    "    h3.plot(t, Earth.p.y)\n",
    "    h4.plot(t, Mars.p.y)\n",
    "    i1.plot(t, Mercury.p.z)\n",
    "    i2.plot(t, Venus.p.z)\n",
    "    i3.plot(t, Earth.p.z)\n",
    "    i4.plot(t, Mars.p.z)\n",
    "    for planet in planets:\n",
    "        #Force Accumulates After each iteration,\n",
    "        #Avoid 0s in the calculations\n",
    "        #Time efficient due to less looping\n",
    "        if(planet != Sun):\n",
    "            F=force(Sun, planet);\n",
    "        if(planet != Mercury):\n",
    "            F = F+force(Mercury, planet);\n",
    "        if(planet != Venus):\n",
    "            F = F+force(Venus, planet);\n",
    "        if(planet != Earth):\n",
    "            F = F+force(Earth, planet);\n",
    "        if(planet != Mars):\n",
    "            F = F+force(Mars, planet);\n",
    "        #Use total force*t to get m*a*t=m*v=p\n",
    "        #p/m=v, v*t=x\n",
    "        planet.p = planet.p + F*dt\n",
    "        planet.body.pos = planet.body.pos + planet.p*dt/planet.mass\n",
    "        if(t==182.5*day):\n",
    "            if(planet.name == \"Mercury\"):\n",
    "                #dif = planet.body.pos - vector(-2.602358878960510E10, -1.496425638517623E11, 1.098914942309260E6)\n",
    "                print(\"Mercury at .5 Earth Orbit's time\")\n",
    "                print(\"simulation value first, actual value second\")\n",
    "                print(\"x\")\n",
    "                print(planet.body.pos.x)\n",
    "                print(-2.602358878960510E10)\n",
    "                print(\"y\")\n",
    "                print(planet.body.pos.y)\n",
    "                print(-1.496425638517623E11)\n",
    "                print(\"z\")\n",
    "                print(planet.body.pos.z)\n",
    "                print(1.098914942309260E6)\n",
    "            if(planet.name == \"Venus\"):\n",
    "                #dif = planet.body.pos - vector(6.324891346651598E10,-8.856520129185867E10,-4.861624340162829E9)\n",
    "                print(\"Venus at .5 Earth Orbit's time\")\n",
    "                print(\"x\")\n",
    "                print(planet.body.pos.x)\n",
    "                print(6.324891346651598E10)\n",
    "                print(\"y\")\n",
    "                print(planet.body.pos.y)\n",
    "                print(-8.856520129185867E10)\n",
    "                print(\"z\")\n",
    "                print(planet.body.pos.z)\n",
    "                print(-4.861624340162829E9)\n",
    "            if(planet.name == \"Earth\"):\n",
    "                #dif = planet.body.pos - vector(-2.602358878960510E10, -1.496425638517623E11, 1.098914942309260E6)\n",
    "                print(\"Earth at .5 Earth Orbit's time\")\n",
    "                print(\"x\")\n",
    "                print(planet.body.pos.x)\n",
    "                print(-2.602358878960510E10)\n",
    "                print(\"y\")\n",
    "                print(planet.body.pos.y)\n",
    "                print(-1.496425638517623E11)\n",
    "                print(\"z\")\n",
    "                print(planet.body.pos.z)\n",
    "                print(1.098914942309260E6)\n",
    "            if(planet.name == \"Mars\"):\n",
    "                #dif = planet.body.pos - vector(-3.365600760865995E10, -2.179195849835298E11, -3.737323492511690E9)\n",
    "                print(\"Earth at .5 Earth Orbit's time\")\n",
    "                print(\"x\")\n",
    "                print(planet.body.pos.x)\n",
    "                print(-3.365600760865995E10)\n",
    "                print(\"y\")\n",
    "                print(planet.body.pos.y)\n",
    "                print(-2.179195849835298E11)\n",
    "                print(\"z\")\n",
    "                print(planet.body.pos.z)\n",
    "                print(-3.737323492511690E9)\n",
    "    t = t + dt"
   ]
  },
  {
   "cell_type": "markdown",
   "id": "db03ba4e",
   "metadata": {},
   "source": [
    "<h3>References:<h3>"
   ]
  },
  {
   "cell_type": "markdown",
   "id": "773785af",
   "metadata": {},
   "source": [
    "    https://stackoverflow.com/questions/33857900/attributeerror-int-object-has-no-attribute-x\n",
    "    https://www.youtube.com/watch?v=ph1kAofnc50&t=904s\n",
    "    https://www.youtube.com/watch?v=WTLPmUHTPqo"
   ]
  },
  {
   "cell_type": "markdown",
   "id": "c966bc79",
   "metadata": {},
   "source": [
    "<h2> 2c <h2>"
   ]
  },
  {
   "cell_type": "markdown",
   "id": "d574f73e",
   "metadata": {},
   "source": [
    "   I used the Horizons System to view all of the velocity, and position vectors for the inner planets of the soler system, from the solcentric (sun as the center) view of the universe. From the same website I aquired the mass and radius of each individual planet and the sun, however in the shown simulation, the radius is actually scaled up 20x for the sun and 1000x for the other four planets, in order to be able to see them all from a very far view point. All of the values for distance were converted to meters as well. This seemed more logical for the calculations being performed, considering I would not have to worry about having a poorly scaled distance calculation mess up the orbital paths. \n",
    "    In order to test the systems accuracy, I chose a duration of 365 days, recognizing one day as 24 (hours in a day) by 3600 (seconds in an hour), and iterating 1000 seconds per loop. This, as is well know, is the amount of time it should take Earth to complete its entire orbit one time, which is exactly what occurs in the simulation. Prior to this I ran the simulation with much higher orbital accuracy at 100s per loop, however this took a very long time to complete which is why I decided to multiple that value. These values are both insignificant enough to the overall orbit duration that they are very good values to simulate all the points that the planet would travel on with high accuracy."
   ]
  },
  {
   "cell_type": "markdown",
   "id": "677e41af",
   "metadata": {},
   "source": [
    "<h2> 2d <h2>"
   ]
  },
  {
   "cell_type": "markdown",
   "id": "4ac0796a",
   "metadata": {},
   "source": [
    "After gathering an understanding of vectorized postion and velocity values from the initial Newton's Cannonball simulation, I first gathered all the values previously discussed, in order to create a list of necessary components. I then compiled these values into a class, so I could organize them in personalized objects. Within this class, the initialized object took all of the velocity, and position x y and z values, and applied them to a virtual object on the canvas, which is also the only part of the object with any scales applied to it, that being the body attribute containing a sphere() object.\n",
    "\n",
    "I would have liked to be able to use a nested for loop system to acculumulate the solar systems total force in a given moment, however I was continually getting a strange attribute error that I could not solve. This resulted in me making a function that would automatically reset the radius value for me, and would allow me to calculate a new force that could then be accumulated with the total force following the function.\n",
    "\n",
    "I also learned from one of the mentioned youtube videos that I could caluculate the position by manipulating momentum rather than acceleration. Although there is no difference between my calculation and one using v = v + at and x = x + vt, i found this one easier to conceptualize, so I decided to use it."
   ]
  },
  {
   "cell_type": "markdown",
   "id": "841f9fb1",
   "metadata": {},
   "source": [
    "<h2> 2e <h2>"
   ]
  },
  {
   "cell_type": "markdown",
   "id": "3fdd25ea",
   "metadata": {},
   "source": [
    "    Mercury\n",
    "    June 11, 2001: X =-2.602358878960510E+07 Y =-1.496425638517623E+08 Z = 1.098914942309260E+03\n",
    "                 VX= 2.885646150985319E+01 VY=-5.222395297988467E+00 VZ= 8.708731512427903E-04\n",
    "    December 11, 2001: X = 2.814707573364251E+07 Y = 1.445983204775328E+08 Z =-1.159921299129725E+03\n",
    "                 VX=-2.973096389134114E+01 VY= 5.590753027167610E+00 VZ= 5.805143589845407E-04"
   ]
  },
  {
   "cell_type": "markdown",
   "id": "4c4108ba",
   "metadata": {},
   "source": [
    "    Venus\n",
    "    June 11, 2001: X = 6.324891346651598E+07 Y =-8.856520129185867E+07 Z =-4.861624340162829E+06\n",
    "                VX= 2.826524205596072E+01 VY= 2.022943922577181E+01 VZ=-1.354899548719472E+00\n",
    "    Decemeber 11, 2001:  X =-5.508390136420240E+07 Y =-9.337773599851090E+07 Z = 1.902757785231434E+06\n",
    "                 VX= 2.992023975370723E+01 VY=-1.795319966433919E+01 VZ=-1.972452076259237E+00"
   ]
  },
  {
   "cell_type": "markdown",
   "id": "f3d86d66",
   "metadata": {},
   "source": [
    "    Earth\n",
    "    June 11, 2001:  X =-2.602358878960510E+07 Y =-1.496425638517623E+08 Z = 1.098914942309260E+03\n",
    "                 VX= 2.885646150985319E+01 VY=-5.222395297988467E+00 VZ= 8.708731512427903E-04\n",
    "    December 11, 2001:  X = 2.814707573364251E+07 Y = 1.445983204775328E+08 Z =-1.159921299129725E+03\n",
    "                 VX=-2.973096389134114E+01 VY= 5.590753027167610E+00 VZ= 5.805143589845407E-04"
   ]
  },
  {
   "cell_type": "markdown",
   "id": "98f2f63e",
   "metadata": {},
   "source": [
    "    Mars\n",
    "    June 11, 2001:  X =-3.365600760865995E+07 Y =-2.179195849835298E+08 Z =-3.737323492511690E+06\n",
    "                 VX= 2.486581359142120E+01 VY=-1.619485662179892E+00 VZ=-6.450652228885088E-01\n",
    "    December 11, 2001:  X = 2.045707484339063E+08 Y = 4.882853688470111E+07 Z =-4.004666718501342E+06\n",
    "                 VX=-4.691786141350864E+00 VY= 2.563419586153430E+01 VZ= 6.522515724401927E-01"
   ]
  },
  {
   "cell_type": "markdown",
   "id": "92133745",
   "metadata": {},
   "source": [
    "As can be seen above, I gathered a set of future points along the orbital paths to attempt to measure the accuracy of the solar system. The values as a difference are so large they don't seem relevant which is why I left them as simulation (first listed) and actual value (second listed) for each directional component of the position vector. I used the Horizons System to find the location of each of these planets 6 months after they started, or what should be about half of Earth's orbital path (which is when it occurs). the X and Y values are extremely close in every scenario, but Z zeems to have more variance.\n",
    "\n",
    "My theory as to why this is the case is the assumptions I have made when designing this system. First of all, I set the velocity of the sun to 0, which is not realistic to our world, however when the universe is only considered the 4 inner planets of our solar system, the relative velocity from our perspective is 0. Second of all, I am viewing the sun as the main significant force on the other planets, however the universe is huge, and many celestial bodies exist, admittedly at much farther distances, multiples of times bigger than the sun, which collectively would add a significant amount of force to all of these planets. Not enough to remove them from orbit, but simply enough to adjust the orbital path they follow. This is without saying, but the outer planets would be one major component of this additional force value.\n",
    "\n",
    "To further verfiy correctness, we can observe the oscilating pattern in the charts graphed below the second simulation. Corresponding to the planet colors is each of the planets momentums over time, constantly rising up and down in most cases. I attempted to compare multiple correct points and the difference in their location on these charts, however I had a difficult time scaling the distances so that they could all be read on the chart. There are no significant variations or loses in energy in these graphs, meaning that there is no indication these paths would change at any time in the future"
   ]
  },
  {
   "cell_type": "markdown",
   "id": "4afa2039",
   "metadata": {},
   "source": [
    "<h1> Part 3 <h1>"
   ]
  },
  {
   "cell_type": "code",
   "execution_count": 7,
   "id": "0fdbd052",
   "metadata": {},
   "outputs": [
    {
     "data": {
      "text/html": [
       "<div id=\"glowscript\" class=\"glowscript\"></div>"
      ],
      "text/plain": [
       "<IPython.core.display.HTML object>"
      ]
     },
     "metadata": {},
     "output_type": "display_data"
    },
    {
     "data": {
      "application/javascript": [
       "if (typeof Jupyter !== \"undefined\") { window.__context = { glowscript_container: $(\"#glowscript\").removeAttr(\"id\")};}else{ element.textContent = ' ';}"
      ],
      "text/plain": [
       "<IPython.core.display.Javascript object>"
      ]
     },
     "metadata": {},
     "output_type": "display_data"
    }
   ],
   "source": [
    "from vpython import * \n",
    "scene = canvas(width=800, length=800)"
   ]
  },
  {
   "cell_type": "code",
   "execution_count": 8,
   "id": "3f48c9f8",
   "metadata": {},
   "outputs": [],
   "source": [
    "t=0\n",
    "dt=100\n",
    "g1 = graph(xtitle=\"t [s]\", ytitle=\"m\",width=500, height=150)\n",
    "f1 = gcurve(color=color.black)\n",
    "f2 = gcurve(color=color.red)\n",
    "f3 = gcurve(color=color.blue)"
   ]
  },
  {
   "cell_type": "code",
   "execution_count": null,
   "id": "535d5fe8",
   "metadata": {},
   "outputs": [],
   "source": [
    "while t < 365*day:\n",
    "    rate(1000)\n",
    "    f1.plot(t, Earth.body.pos.x)\n",
    "    f2.plot(t, Earth.body.pos.y)\n",
    "    f3.plot(t, Earth.body.pos.z)\n",
    "    for planet in planets:\n",
    "        #Force Accumulates After each iteration,\n",
    "        #Avoid 0s in the calculations\n",
    "        #Time efficient due to less looping\n",
    "        if(planet != Sun):\n",
    "            F=force(Sun, planet);\n",
    "        if(planet != Mercury):\n",
    "            F = F+force(Mercury, planet);\n",
    "        if(planet != Venus):\n",
    "            F = F+force(Venus, planet);\n",
    "        if(planet != Earth):\n",
    "            F = F+force(Earth, planet);\n",
    "        if(planet != Mars):\n",
    "            F = F+force(Mars, planet);\n",
    "        #Use total force*t to get m*a*t=m*v=p\n",
    "        #p/m=v, v*t=x\n",
    "        planet.p = planet.p + F*dt\n",
    "        planet.body.pos = planet.body.pos + planet.p*dt/planet.mass\n",
    "    t = t + dt"
   ]
  },
  {
   "cell_type": "code",
   "execution_count": null,
   "id": "c42f90e4",
   "metadata": {},
   "outputs": [],
   "source": [
    "t=0\n",
    "dt=1000\n",
    "g2 = graph(xtitle=\"t [s]\", ytitle=\"m\",width=500, height=150)\n",
    "f4 = gcurve(color=color.black)\n",
    "f5 = gcurve(color=color.red)\n",
    "f6 = gcurve(color=color.blue)"
   ]
  },
  {
   "cell_type": "code",
   "execution_count": null,
   "id": "18cd37d4",
   "metadata": {},
   "outputs": [],
   "source": [
    "while t < 365*day:\n",
    "    rate(1000)\n",
    "    f4.plot(t, Earth.body.pos.x)\n",
    "    f5.plot(t, Earth.body.pos.y)\n",
    "    f6.plot(t, Earth.body.pos.z)\n",
    "    for planet in planets:\n",
    "        #Force Accumulates After each iteration,\n",
    "        #Avoid 0s in the calculations\n",
    "        #Time efficient due to less looping\n",
    "        if(planet != Sun):\n",
    "            F=force(Sun, planet);\n",
    "        if(planet != Mercury):\n",
    "            F = F+force(Mercury, planet);\n",
    "        if(planet != Venus):\n",
    "            F = F+force(Venus, planet);\n",
    "        if(planet != Earth):\n",
    "            F = F+force(Earth, planet);\n",
    "        if(planet != Mars):\n",
    "            F = F+force(Mars, planet);\n",
    "        #Use total force*t to get m*a*t=m*v=p\n",
    "        #p/m=v, v*t=x\n",
    "        planet.p = planet.p + F*dt\n",
    "        planet.body.pos = planet.body.pos + planet.p*dt/planet.mass\n",
    "    t = t + d"
   ]
  },
  {
   "cell_type": "code",
   "execution_count": null,
   "id": "8d7e3de7",
   "metadata": {},
   "outputs": [],
   "source": [
    "t=0\n",
    "dt=10000\n",
    "g3 = graph(xtitle=\"t [s]\", ytitle=\"m\",width=500, height=150)\n",
    "f7 = gcurve(color=color.black)\n",
    "f8 = gcurve(color=color.red)\n",
    "f9 = gcurve(color=color.blue)"
   ]
  },
  {
   "cell_type": "code",
   "execution_count": null,
   "id": "871b567d",
   "metadata": {},
   "outputs": [],
   "source": [
    "while t < 365*day:\n",
    "    rate(1000)\n",
    "    f7.plot(t, Earth.body.pos.x)\n",
    "    f8.plot(t, Earth.body.pos.y)\n",
    "    f9.plot(t, Earth.body.pos.z)\n",
    "    for planet in planets:\n",
    "        #Force Accumulates After each iteration,\n",
    "        #Avoid 0s in the calculations\n",
    "        #Time efficient due to less looping\n",
    "        if(planet != Sun):\n",
    "            F=force(Sun, planet);\n",
    "        if(planet != Mercury):\n",
    "            F = F+force(Mercury, planet);\n",
    "        if(planet != Venus):\n",
    "            F = F+force(Venus, planet);\n",
    "        if(planet != Earth):\n",
    "            F = F+force(Earth, planet);\n",
    "        if(planet != Mars):\n",
    "            F = F+force(Mars, planet);\n",
    "        #Use total force*t to get m*a*t=m*v=p\n",
    "        #p/m=v, v*t=x\n",
    "        planet.p = planet.p + F*dt\n",
    "        planet.body.pos = planet.body.pos + planet.p*dt/planet.mass\n",
    "    t = t + d"
   ]
  },
  {
   "cell_type": "markdown",
   "id": "bf3d3801",
   "metadata": {},
   "source": [
    "<h2> 3f <h2>"
   ]
  },
  {
   "cell_type": "markdown",
   "id": "5ba373e5",
   "metadata": {},
   "source": [
    "My laptop is not doing a great job performance wise producing these graphs, resulting in rather inconsistent results among different time trials. The consistent thing is that the curves on the lower time step are much more clean and precise than they are as the time steps get higher. Mercury in particular seems to fall victim to unreliable step size, as its path in the simulation starts to not be rounded and have corners instead. The other three have longer orbital paths, and most importantly the total amount of time it takes them to complete a full orbit is much longer. We can visualize this by saying for time T, we can put as many points in the orbital path as T/dt, where dt is our step size"
   ]
  }
 ],
 "metadata": {
  "kernelspec": {
   "display_name": "Python 3 (ipykernel)",
   "language": "python",
   "name": "python3"
  },
  "language_info": {
   "codemirror_mode": {
    "name": "ipython",
    "version": 3
   },
   "file_extension": ".py",
   "mimetype": "text/x-python",
   "name": "python",
   "nbconvert_exporter": "python",
   "pygments_lexer": "ipython3",
   "version": "3.9.13"
  }
 },
 "nbformat": 4,
 "nbformat_minor": 5
}

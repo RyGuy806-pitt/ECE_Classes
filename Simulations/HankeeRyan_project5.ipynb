{
 "cells": [
  {
   "cell_type": "markdown",
   "id": "d627263a",
   "metadata": {},
   "source": [
    "<h1>Part 1<h1>"
   ]
  },
  {
   "cell_type": "code",
   "execution_count": 41,
   "id": "1c4e8eac",
   "metadata": {},
   "outputs": [],
   "source": [
    "from vpython import*\n",
    "from queue import PriorityQueue"
   ]
  },
  {
   "cell_type": "code",
   "execution_count": 42,
   "id": "198b0bee",
   "metadata": {},
   "outputs": [],
   "source": [
    "class Gate():\n",
    "    def __init__(self, name, index, delay):\n",
    "        self.name = name\n",
    "        self.index = index\n",
    "        self.input1 = Net(0, 0, 1)\n",
    "        self.input2 = Net(1, 0, 1)\n",
    "        self.output = Net(2, 0, 1)\n",
    "        self.delay = delay\n",
    "        \n",
    "    def set_input1(self, val):\n",
    "        self.input1 = val\n",
    "        \n",
    "    def set_input2(self, val):\n",
    "        self.input2 = val\n",
    "        \n",
    "    def operation(self):\n",
    "        return\n",
    "    \n",
    "class NandGate():\n",
    "    def __init__(self, name, index, delay):\n",
    "        Gate.__init__(self, name, index, delay)\n",
    "        \n",
    "    def set_input1(self, val):\n",
    "        self.input1.value = val\n",
    "        \n",
    "    def set_input2(self, val):\n",
    "        self.input2.value = val\n",
    "        \n",
    "    def operation(self):\n",
    "        self.output.value = int(not(self.input1.value and self.input2.value))\n",
    "        \n",
    "class NorGate():\n",
    "    def __init__(self, name, index, delay):\n",
    "        Gate.__init__(self, name, index, delay)\n",
    "        \n",
    "    def set_input1(self, val):\n",
    "        self.input1.value = val\n",
    "        \n",
    "    def set_input2(self, val):\n",
    "        self.input2.value = val\n",
    "        \n",
    "    def operation(self):\n",
    "        self.output.value = int(not(self.input1.value or self.input2.value))\n",
    "        \n",
    "\n",
    "class NotGate():\n",
    "    def __init__(self, name, index, delay):\n",
    "        Gate.__init__(self, name, index, delay)\n",
    "        \n",
    "    def set_input1(self, val):\n",
    "        self.input1.value = val\n",
    "        \n",
    "    def set_input2(self, val):\n",
    "        self.input2.value = val\n",
    "        \n",
    "    def operation(self):\n",
    "        self.output.value = int(not(self.input1))        "
   ]
  },
  {
   "cell_type": "code",
   "execution_count": 43,
   "id": "59c65204",
   "metadata": {},
   "outputs": [],
   "source": [
    "class Net:\n",
    "    def __init__(self, index, delay, val):\n",
    "        self.index = index\n",
    "        self.delay = delay\n",
    "        self.value = val\n",
    "        \n",
    "    def update(self, n):\n",
    "        n.operation()\n",
    "               \n",
    "    def connect(self, n1, n2, index):\n",
    "        if(index == 1):\n",
    "            n2.set_input1(n1.output.value)\n",
    "            n2.operation()\n",
    "        if(index == 2):\n",
    "            n2.set_input2(n1.output.value)\n",
    "            n2.operation()\n",
    "        "
   ]
  },
  {
   "cell_type": "code",
   "execution_count": 44,
   "id": "e27c28a2",
   "metadata": {},
   "outputs": [],
   "source": [
    "def build_graph(inp, inp_node):\n",
    "    inp_node.plot(0,inp[0])\n",
    "    inp_node.plot(1,inp[0])\n",
    "    for i in range (0,len(inp)):\n",
    "        if(i != 0):\n",
    "            if(inp[i-1] == inp[i]):\n",
    "                inp_node.plot(i+1,inp[i])\n",
    "            else:\n",
    "                inp_node.plot(i, inp[i])\n",
    "                inp_node.plot(i+1, inp[i])"
   ]
  },
  {
   "cell_type": "code",
   "execution_count": 45,
   "id": "0068af4d",
   "metadata": {},
   "outputs": [],
   "source": [
    "def build_output_graph(inp, inp_node, tiers):\n",
    "    inp_node.plot(0,inp[0])\n",
    "    inp_node.plot(1+(.25*tiers),inp[0])\n",
    "    for i in range (0,len(inp)):\n",
    "        if(i != 0):\n",
    "            if(inp[i-1] == inp[i]):\n",
    "                inp_node.plot(i+1+.25*tiers,inp[i])\n",
    "            else:\n",
    "                inp_node.plot(i+.25*tiers, inp[i])\n",
    "                inp_node.plot(i+1+.25*tiers, inp[i])"
   ]
  },
  {
   "cell_type": "code",
   "execution_count": 46,
   "id": "caf4a2a1",
   "metadata": {},
   "outputs": [],
   "source": [
    "Nor_Gate = NorGate('nor1', 0, 10)"
   ]
  },
  {
   "cell_type": "code",
   "execution_count": 47,
   "id": "3a31ba25",
   "metadata": {},
   "outputs": [],
   "source": [
    "Nand_Gate = NandGate('nand1', 1, 10)"
   ]
  },
  {
   "cell_type": "code",
   "execution_count": 48,
   "id": "d281a623",
   "metadata": {},
   "outputs": [
    {
     "name": "stdout",
     "output_type": "stream",
     "text": [
      "Correct Values\n"
     ]
    }
   ],
   "source": [
    "#All Inputs\n",
    "input1 = [0, 0, 1, 1]\n",
    "input2 = [0, 1, 0, 1]\n",
    "output = []\n",
    "\n",
    "Nor_Gate.input1.value = 0\n",
    "Nor_Gate.input2.value = 0\n",
    "Nor_Gate.input1.update(Nor_Gate)\n",
    "output.append(Nor_Gate.output.value)\n",
    "\n",
    "Nor_Gate.input1.value = 0\n",
    "Nor_Gate.input2.value = 1\n",
    "Nor_Gate.input1.update(Nor_Gate)\n",
    "output.append(Nor_Gate.output.value)\n",
    "\n",
    "Nor_Gate.input1.value = 1\n",
    "Nor_Gate.input2.value = 0\n",
    "Nor_Gate.input1.update(Nor_Gate)\n",
    "output.append(Nor_Gate.output.value)\n",
    "\n",
    "Nor_Gate.input1.value = 1\n",
    "Nor_Gate.input2.value = 1\n",
    "Nor_Gate.input1.update(Nor_Gate)\n",
    "output.append(Nor_Gate.output.value)\n",
    "\n",
    "if(output == [1, 0, 0, 0]):\n",
    "    print(\"Correct Values\")\n",
    "    Nor_output = output"
   ]
  },
  {
   "cell_type": "code",
   "execution_count": 49,
   "id": "6452144c",
   "metadata": {},
   "outputs": [
    {
     "name": "stdout",
     "output_type": "stream",
     "text": [
      "Correct Values\n"
     ]
    }
   ],
   "source": [
    "#All Inputs\n",
    "input1 = [0, 0, 1, 1]\n",
    "input2 = [0, 1, 0, 1]\n",
    "output = []\n",
    "\n",
    "Nand_Gate.input1.value = 0\n",
    "Nand_Gate.input2.value = 0\n",
    "Nand_Gate.input1.update(Nand_Gate)\n",
    "output.append(Nand_Gate.output.value)\n",
    "\n",
    "Nand_Gate.input1.value = 0\n",
    "Nand_Gate.input2.value = 1\n",
    "Nand_Gate.input1.update(Nand_Gate)\n",
    "output.append(Nand_Gate.output.value)\n",
    "\n",
    "Nand_Gate.input1.value = 1\n",
    "Nand_Gate.input2.value = 0\n",
    "Nand_Gate.input1.update(Nand_Gate)\n",
    "output.append(Nand_Gate.output.value)\n",
    "\n",
    "Nand_Gate.input1.value = 1\n",
    "Nand_Gate.input2.value = 1\n",
    "Nand_Gate.input1.update(Nand_Gate)\n",
    "output.append(Nand_Gate.output.value)\n",
    "\n",
    "if(output == [1, 1, 1, 0]):\n",
    "    print(\"Correct Values\")\n",
    "    Nand_output = output"
   ]
  },
  {
   "cell_type": "markdown",
   "id": "b8cd0c52",
   "metadata": {},
   "source": [
    "<h1>Part 2<h1>"
   ]
  },
  {
   "cell_type": "code",
   "execution_count": 50,
   "id": "3beeaa65",
   "metadata": {},
   "outputs": [
    {
     "data": {
      "text/html": [
       "<div id=\"glowscript\" class=\"glowscript\"></div>"
      ],
      "text/plain": [
       "<IPython.core.display.HTML object>"
      ]
     },
     "metadata": {},
     "output_type": "display_data"
    },
    {
     "data": {
      "application/javascript": [
       "if (typeof Jupyter !== \"undefined\") { window.__context = { glowscript_container: $(\"#glowscript\").removeAttr(\"id\")};}else{ element.textContent = ' ';}"
      ],
      "text/plain": [
       "<IPython.core.display.Javascript object>"
      ]
     },
     "metadata": {},
     "output_type": "display_data"
    }
   ],
   "source": [
    "scene1 = canvas()"
   ]
  },
  {
   "cell_type": "code",
   "execution_count": 51,
   "id": "a6db4ec7",
   "metadata": {},
   "outputs": [],
   "source": [
    "g1 = graph(title=\"NOR Input 1\", xtitle='time', ytitle='value', width=800)\n",
    "g2 = graph(title=\"NOR Input 2\", xtitle='time', ytitle='value', width=800)\n",
    "g3 = graph(title=\"NOR Output\", xtitle='time', ytitle='value', width=800)\n",
    "\n",
    "input1_node = gcurve(graph=g1, color=color.red, marker_color=color.red, label='input1')\n",
    "build_graph(input1, input1_node)"
   ]
  },
  {
   "cell_type": "code",
   "execution_count": 52,
   "id": "f79d2854",
   "metadata": {},
   "outputs": [],
   "source": [
    "g1 = graph(title=\"NOR Input 1\", xtitle='time', ytitle='value', width=800)\n",
    "g2 = graph(title=\"NOR Input 2\", xtitle='time', ytitle='value', width=800)\n",
    "g3 = graph(title=\"NOR Output\", xtitle='time', ytitle='value', width=800)\n",
    "\n",
    "input2_node = gcurve(graph=g2, color=color.blue, label='input2')\n",
    "build_graph(input2, input2_node)"
   ]
  },
  {
   "cell_type": "code",
   "execution_count": 53,
   "id": "b5aad645",
   "metadata": {},
   "outputs": [],
   "source": [
    "g1 = graph(title=\"NOR Input 1\", xtitle='time', ytitle='value', width=800)\n",
    "g2 = graph(title=\"NOR Input 2\", xtitle='time', ytitle='value', width=800)\n",
    "g3 = graph(title=\"NOR Output\", xtitle='time', ytitle='value', width=800)\n",
    "\n",
    "input3_node = gcurve(graph=g3, color=color.black, label='output')\n",
    "build_output_graph(Nor_output, input3_node, 1)"
   ]
  },
  {
   "cell_type": "code",
   "execution_count": 54,
   "id": "76492002",
   "metadata": {},
   "outputs": [
    {
     "data": {
      "text/html": [
       "<div id=\"glowscript\" class=\"glowscript\"></div>"
      ],
      "text/plain": [
       "<IPython.core.display.HTML object>"
      ]
     },
     "metadata": {},
     "output_type": "display_data"
    },
    {
     "data": {
      "application/javascript": [
       "if (typeof Jupyter !== \"undefined\") { window.__context = { glowscript_container: $(\"#glowscript\").removeAttr(\"id\")};}else{ element.textContent = ' ';}"
      ],
      "text/plain": [
       "<IPython.core.display.Javascript object>"
      ]
     },
     "metadata": {},
     "output_type": "display_data"
    }
   ],
   "source": [
    "scene2 = canvas()"
   ]
  },
  {
   "cell_type": "code",
   "execution_count": 55,
   "id": "70a15e0e",
   "metadata": {},
   "outputs": [],
   "source": [
    "g1 = graph(title=\"NAND Input 1\", xtitle='time', ytitle='value', width=800)\n",
    "g2 = graph(title=\"NAND Input 2\", xtitle='time', ytitle='value', width=800)\n",
    "g3 = graph(title=\"NAND Output\", xtitle='time', ytitle='value', width=800)\n",
    "\n",
    "input1_node = gcurve(graph=g1, color=color.red, marker_color=color.red, label='input1')\n",
    "build_graph(input1, input1_node)"
   ]
  },
  {
   "cell_type": "code",
   "execution_count": 56,
   "id": "e642c4d0",
   "metadata": {},
   "outputs": [],
   "source": [
    "g1 = graph(title=\"NAND Input 1\", xtitle='time', ytitle='value', width=800)\n",
    "g2 = graph(title=\"NAND Input 2\", xtitle='time', ytitle='value', width=800)\n",
    "g3 = graph(title=\"NAND Output\", xtitle='time', ytitle='value', width=800)\n",
    "\n",
    "input2_node = gcurve(graph=g2, color=color.blue, label='input2')\n",
    "build_graph(input2, input2_node)"
   ]
  },
  {
   "cell_type": "code",
   "execution_count": 57,
   "id": "1c50512e",
   "metadata": {},
   "outputs": [],
   "source": [
    "g1 = graph(title=\"NAND Input 1\", xtitle='time', ytitle='value', width=800)\n",
    "g2 = graph(title=\"NAND Input 2\", xtitle='time', ytitle='value', width=800)\n",
    "g3 = graph(title=\"NAND Output\", xtitle='time', ytitle='value', width=800)\n",
    "\n",
    "input3_node = gcurve(graph=g3, color=color.black, label='output')\n",
    "build_output_graph(Nand_output, input3_node, 1)"
   ]
  },
  {
   "cell_type": "markdown",
   "id": "02f10e99",
   "metadata": {},
   "source": [
    "Using the known truth tables for Nand and Nor outputs, I made an array that represents these values, and checks that the values produced by the output node of my gates match those truth table values, by appending each output result to an array and then comparing the two arrays against one another. If they match then the values will be saved as Nand_output, or Nor_output, at whose values are used on the graphs."
   ]
  },
  {
   "cell_type": "markdown",
   "id": "50ba5d82",
   "metadata": {},
   "source": [
    "Using the Information I found online, I found the average propagation delay between gates is somewhere between 20% and 50% of one time period. Using this information, I decided on a value of .25s for the gate delay, which will be multiplied for each level of gates included in the circuit."
   ]
  },
  {
   "cell_type": "markdown",
   "id": "993ce96d",
   "metadata": {},
   "source": [
    "<h3>References<h3>"
   ]
  },
  {
   "cell_type": "markdown",
   "id": "adc39bc4",
   "metadata": {},
   "source": [
    "https://www.embeddedrelated.com/thread/6939/what-would-be-difference-between-clock-latency-and-propagation-delay"
   ]
  },
  {
   "cell_type": "markdown",
   "id": "faa23b29",
   "metadata": {},
   "source": [
    "https://www.researchgate.net/figure/Propagation-delay-time-tPHL-and-tPLH_fig8_305775604"
   ]
  },
  {
   "cell_type": "markdown",
   "id": "d6a01f07",
   "metadata": {},
   "source": [
    "<h1>Part 3<h1>"
   ]
  },
  {
   "cell_type": "code",
   "execution_count": 58,
   "id": "689f0752",
   "metadata": {},
   "outputs": [],
   "source": [
    "class Event():\n",
    "    def __init__(self, net, t, v):\n",
    "        self.net = net\n",
    "        self.value = v\n",
    "        self.time = t\n",
    "        \n",
    "    def __lt__(self, other): return self.time < other.time\n",
    "    \n",
    "    def __le__(self, other): return self.time <= other.time\n",
    "        \n",
    "    def __eq__(self, other): return self.time == other.time\n",
    "    \n",
    "    def __gt__(self, other): return self.time > other.time\n",
    "    \n",
    "    def __ge__(self, other): return self.time >= other.time"
   ]
  },
  {
   "cell_type": "markdown",
   "id": "ab2e3859",
   "metadata": {},
   "source": [
    "<h2>Nand Gate w/ Events<h2>"
   ]
  },
  {
   "cell_type": "code",
   "execution_count": 59,
   "id": "b68acbe4",
   "metadata": {},
   "outputs": [],
   "source": [
    "e1 = Event(Nand_Gate.input1, 0, 0)\n",
    "e2 = Event(Nand_Gate.input1, 1, 1)\n",
    "e3 = Event(Nand_Gate.input1, 2, 0)\n",
    "e4 = Event(Nand_Gate.input1, 3, 1)\n",
    "\n",
    "e5 = Event(Nand_Gate.input2, 0, 0)\n",
    "e6 = Event(Nand_Gate.input2, 1, 0)\n",
    "e7 = Event(Nand_Gate.input2, 2, 1)\n",
    "e8 = Event(Nand_Gate.input2, 3, 1)\n",
    "\n",
    "q1 = PriorityQueue()\n",
    "q2 = PriorityQueue()\n",
    "q1.put(e1)\n",
    "q1.put(e2)\n",
    "q1.put(e3)\n",
    "q1.put(e4)\n",
    "\n",
    "q2.put(e5)\n",
    "q2.put(e6)\n",
    "q2.put(e7)\n",
    "q2.put(e8)"
   ]
  },
  {
   "cell_type": "code",
   "execution_count": 60,
   "id": "a9356f26",
   "metadata": {},
   "outputs": [],
   "source": [
    "Nand_Event_Output = []\n",
    "while(not(q1.empty() or q2.empty())):\n",
    "    e1 = q1.get()\n",
    "    e2 = q2.get()\n",
    "    e1.net.value = e1.value\n",
    "    e2.net.value = e2.value\n",
    "    e2.net.update(Nand_Gate)\n",
    "    Nand_Event_Output.append(Nand_Gate.output.value)"
   ]
  },
  {
   "cell_type": "code",
   "execution_count": 61,
   "id": "3e1c07db",
   "metadata": {},
   "outputs": [
    {
     "data": {
      "text/html": [
       "<div id=\"glowscript\" class=\"glowscript\"></div>"
      ],
      "text/plain": [
       "<IPython.core.display.HTML object>"
      ]
     },
     "metadata": {},
     "output_type": "display_data"
    },
    {
     "data": {
      "application/javascript": [
       "if (typeof Jupyter !== \"undefined\") { window.__context = { glowscript_container: $(\"#glowscript\").removeAttr(\"id\")};}else{ element.textContent = ' ';}"
      ],
      "text/plain": [
       "<IPython.core.display.Javascript object>"
      ]
     },
     "metadata": {},
     "output_type": "display_data"
    }
   ],
   "source": [
    "scene3 = canvas()"
   ]
  },
  {
   "cell_type": "code",
   "execution_count": 62,
   "id": "17d6088e",
   "metadata": {},
   "outputs": [],
   "source": [
    "g4 = graph(title=\"NAND Input 1 w Events\", xtitle='time', ytitle='value', width=800)\n",
    "g5 = graph(title=\"NAND Input 2 w Events\", xtitle='time', ytitle='value', width=800)\n",
    "g6 = graph(title=\"NAND Output w Events\", xtitle='time', ytitle='value', width=800)\n",
    "\n",
    "input4_node = gcurve(graph=g4, color=color.red, label='E:input1')\n",
    "input5_node = gcurve(graph=g5, color=color.blue, label='E:input2')\n",
    "input6_node = gcurve(graph=g6, color=color.black, label='E:output')\n",
    "\n",
    "build_graph(input1, input4_node)\n",
    "build_graph(input2, input5_node)\n",
    "build_output_graph(Nand_output, input6_node, 1)"
   ]
  },
  {
   "cell_type": "markdown",
   "id": "1a830871",
   "metadata": {},
   "source": [
    "<h2>Nor Gate w Events<h2>"
   ]
  },
  {
   "cell_type": "code",
   "execution_count": 63,
   "id": "b0b12b25",
   "metadata": {},
   "outputs": [],
   "source": [
    "e1 = Event(Nor_Gate.input1, 0, 0)\n",
    "e2 = Event(Nor_Gate.input1, 1, 1)\n",
    "e3 = Event(Nor_Gate.input1, 2, 0)\n",
    "e4 = Event(Nor_Gate.input1, 3, 1)\n",
    "\n",
    "e5 = Event(Nor_Gate.input2, 0, 0)\n",
    "e6 = Event(Nor_Gate.input2, 1, 0)\n",
    "e7 = Event(Nor_Gate.input2, 2, 1)\n",
    "e8 = Event(Nor_Gate.input2, 3, 1)\n",
    "\n",
    "q1 = PriorityQueue()\n",
    "q2 = PriorityQueue()\n",
    "q1.put(e1)\n",
    "q1.put(e2)\n",
    "q1.put(e3)\n",
    "q1.put(e4)\n",
    "\n",
    "q2.put(e5)\n",
    "q2.put(e6)\n",
    "q2.put(e7)\n",
    "q2.put(e8)"
   ]
  },
  {
   "cell_type": "code",
   "execution_count": 64,
   "id": "ce32d9f3",
   "metadata": {},
   "outputs": [],
   "source": [
    "Nor_Event_Output = []\n",
    "while(not(q1.empty() or q2.empty())):\n",
    "    e1 = q1.get()\n",
    "    e2 = q2.get()\n",
    "    e1.net.value = e1.value\n",
    "    e2.net.value = e2.value\n",
    "    e2.net.update(Nor_Gate)\n",
    "    Nor_Event_Output.append(Nor_Gate.output.value)"
   ]
  },
  {
   "cell_type": "code",
   "execution_count": 65,
   "id": "c93121ce",
   "metadata": {},
   "outputs": [
    {
     "data": {
      "text/html": [
       "<div id=\"glowscript\" class=\"glowscript\"></div>"
      ],
      "text/plain": [
       "<IPython.core.display.HTML object>"
      ]
     },
     "metadata": {},
     "output_type": "display_data"
    },
    {
     "data": {
      "application/javascript": [
       "if (typeof Jupyter !== \"undefined\") { window.__context = { glowscript_container: $(\"#glowscript\").removeAttr(\"id\")};}else{ element.textContent = ' ';}"
      ],
      "text/plain": [
       "<IPython.core.display.Javascript object>"
      ]
     },
     "metadata": {},
     "output_type": "display_data"
    }
   ],
   "source": [
    "scene4 = canvas()"
   ]
  },
  {
   "cell_type": "code",
   "execution_count": 66,
   "id": "aaff3223",
   "metadata": {},
   "outputs": [],
   "source": [
    "g7 = graph(title=\"NOR Input 1 w Events\", xtitle='time', ytitle='value', width=800)\n",
    "g8 = graph(title=\"NOR Input 2 w Events\", xtitle='time', ytitle='value', width=800)\n",
    "g9 = graph(title=\"NOR Output w Events\", xtitle='time', ytitle='value', width=800)\n",
    "\n",
    "input7_node = gcurve(graph=g7, color=color.red, label='E:input1')\n",
    "input8_node = gcurve(graph=g8, color=color.blue, label='E:input2')\n",
    "input9_node = gcurve(graph=g9, color=color.black, label='E:output')\n",
    "\n",
    "build_graph(input1, input7_node)\n",
    "build_graph(input2, input8_node)\n",
    "build_output_graph(Nor_output, input9_node, 1)"
   ]
  },
  {
   "cell_type": "markdown",
   "id": "ee843a01",
   "metadata": {},
   "source": [
    "<h1>Part 4<h1>"
   ]
  },
  {
   "cell_type": "markdown",
   "id": "15ed8bda",
   "metadata": {},
   "source": [
    "<h2>3 Nand Gates<h2>"
   ]
  },
  {
   "cell_type": "code",
   "execution_count": 67,
   "id": "891e66a5",
   "metadata": {},
   "outputs": [],
   "source": [
    "Nand_Gate1 = NandGate('nand0', 0, 10)\n",
    "Nand_Gate2 = NandGate('nand1', 1, 10)\n",
    "Nand_Gate3 = NandGate('nand2', 2, 10)\n",
    "\n",
    "e1 = Event(Nand_Gate1.input1, 0, 0)\n",
    "e2 = Event(Nand_Gate1.input1, 1, 1)\n",
    "e3 = Event(Nand_Gate1.input1, 2, 0)\n",
    "e4 = Event(Nand_Gate1.input1, 3, 1)\n",
    "\n",
    "e5 = Event(Nand_Gate1.input2, 0, 0)\n",
    "e6 = Event(Nand_Gate1.input2, 1, 0)\n",
    "e7 = Event(Nand_Gate1.input2, 2, 1)\n",
    "e8 = Event(Nand_Gate1.input2, 3, 1)\n",
    "\n",
    "q1 = PriorityQueue()\n",
    "q2 = PriorityQueue()\n",
    "q1.put(e1)\n",
    "q1.put(e2)\n",
    "q1.put(e3)\n",
    "q1.put(e4)\n",
    "\n",
    "q2.put(e5)\n",
    "q2.put(e6)\n",
    "q2.put(e7)\n",
    "q2.put(e8)"
   ]
  },
  {
   "cell_type": "code",
   "execution_count": 68,
   "id": "a1949552",
   "metadata": {},
   "outputs": [],
   "source": [
    "e1 = Event(Nand_Gate2.input1, 0, 0)\n",
    "e2 = Event(Nand_Gate2.input1, 1, 1)\n",
    "e3 = Event(Nand_Gate2.input1, 2, 0)\n",
    "e4 = Event(Nand_Gate2.input1, 3, 1)\n",
    "\n",
    "e5 = Event(Nand_Gate2.input2, 0, 0)\n",
    "e6 = Event(Nand_Gate2.input2, 1, 0)\n",
    "e7 = Event(Nand_Gate2.input2, 2, 1)\n",
    "e8 = Event(Nand_Gate2.input2, 3, 1)\n",
    "\n",
    "q3 = PriorityQueue()\n",
    "q4 = PriorityQueue()\n",
    "q3.put(e1)\n",
    "q3.put(e2)\n",
    "q3.put(e3)\n",
    "q3.put(e4)\n",
    "\n",
    "q4.put(e5)\n",
    "q4.put(e6)\n",
    "q4.put(e7)\n",
    "q4.put(e8)"
   ]
  },
  {
   "cell_type": "code",
   "execution_count": 69,
   "id": "6b0c2c8e",
   "metadata": {},
   "outputs": [],
   "source": [
    "Nand_Complex_Output = []\n",
    "while(not(q1.empty() or q2.empty())):\n",
    "    e1 = q1.get()\n",
    "    e2 = q2.get()\n",
    "    e1.net.value = e1.value\n",
    "    e2.net.value = e2.value\n",
    "    e2.net.update(Nand_Gate1)\n",
    "    e3 = q3.get()\n",
    "    e4 = q4.get()\n",
    "    e3.net.value = e3.value\n",
    "    e4.net.value = e4.value\n",
    "    e4.net.update(Nand_Gate2)\n",
    "    Nand_Gate1.output.connect(Nand_Gate1, Nand_Gate3, 1)\n",
    "    Nand_Gate2.output.connect(Nand_Gate2, Nand_Gate3, 2)\n",
    "    Nand_Gate3.output.update(Nand_Gate3)\n",
    "    Nand_Complex_Output.append(Nand_Gate3.output.value)\n"
   ]
  },
  {
   "cell_type": "code",
   "execution_count": 70,
   "id": "3fc13cb8",
   "metadata": {},
   "outputs": [
    {
     "data": {
      "text/html": [
       "<div id=\"glowscript\" class=\"glowscript\"></div>"
      ],
      "text/plain": [
       "<IPython.core.display.HTML object>"
      ]
     },
     "metadata": {},
     "output_type": "display_data"
    },
    {
     "data": {
      "application/javascript": [
       "if (typeof Jupyter !== \"undefined\") { window.__context = { glowscript_container: $(\"#glowscript\").removeAttr(\"id\")};}else{ element.textContent = ' ';}"
      ],
      "text/plain": [
       "<IPython.core.display.Javascript object>"
      ]
     },
     "metadata": {},
     "output_type": "display_data"
    }
   ],
   "source": [
    "scene5 = canvas()"
   ]
  },
  {
   "cell_type": "code",
   "execution_count": 71,
   "id": "c747bf5d",
   "metadata": {},
   "outputs": [],
   "source": [
    "g10 = graph(title=\"NAND_Gate 1 and 2 input1\", xtitle='time', ytitle='value', width=800)\n",
    "g11 = graph(title=\"NAND_Gate 1 and 2 input2 \", xtitle='time', ytitle='value', width=800)\n",
    "g12 = graph(title=\"NAND_Gate 3 output\", xtitle='time', ytitle='value', width=800)\n",
    "\n",
    "input10_node = gcurve(graph=g10, color=color.red, label='C:input1')\n",
    "input11_node = gcurve(graph=g11, color=color.blue, label='C:input2')\n",
    "input12_node = gcurve(graph=g12, color=color.black, label='C:output')\n",
    "\n",
    "build_graph(input1, input10_node)\n",
    "build_graph(input2, input11_node)\n",
    "build_output_graph(Nand_Complex_Output, input12_node, 2)"
   ]
  },
  {
   "cell_type": "markdown",
   "id": "926b3d20",
   "metadata": {},
   "source": [
    "<h2>3 Nor Gates<h2>"
   ]
  },
  {
   "cell_type": "code",
   "execution_count": 72,
   "id": "07974e92",
   "metadata": {},
   "outputs": [],
   "source": [
    "Nor_Gate1 = NorGate('nor0', 0, 10)\n",
    "Nor_Gate2 = NorGate('nor1', 1, 10)\n",
    "Nor_Gate3 = NorGate('nor2', 2, 10)\n",
    "\n",
    "e1 = Event(Nor_Gate1.input1, 0, 0)\n",
    "e2 = Event(Nor_Gate1.input1, 1, 1)\n",
    "e3 = Event(Nor_Gate1.input1, 2, 0)\n",
    "e4 = Event(Nor_Gate1.input1, 3, 1)\n",
    "\n",
    "e5 = Event(Nor_Gate1.input2, 0, 0)\n",
    "e6 = Event(Nor_Gate1.input2, 1, 0)\n",
    "e7 = Event(Nor_Gate1.input2, 2, 1)\n",
    "e8 = Event(Nor_Gate1.input2, 3, 1)\n",
    "\n",
    "q1 = PriorityQueue()\n",
    "q2 = PriorityQueue()\n",
    "q1.put(e1)\n",
    "q1.put(e2)\n",
    "q1.put(e3)\n",
    "q1.put(e4)\n",
    "\n",
    "q2.put(e5)\n",
    "q2.put(e6)\n",
    "q2.put(e7)\n",
    "q2.put(e8)"
   ]
  },
  {
   "cell_type": "code",
   "execution_count": 73,
   "id": "477bd968",
   "metadata": {},
   "outputs": [],
   "source": [
    "e1 = Event(Nor_Gate2.input1, 0, 0)\n",
    "e2 = Event(Nor_Gate2.input1, 1, 1)\n",
    "e3 = Event(Nor_Gate2.input1, 2, 0)\n",
    "e4 = Event(Nor_Gate2.input1, 3, 1)\n",
    "\n",
    "e5 = Event(Nor_Gate2.input2, 0, 0)\n",
    "e6 = Event(Nor_Gate2.input2, 1, 0)\n",
    "e7 = Event(Nor_Gate2.input2, 2, 1)\n",
    "e8 = Event(Nor_Gate2.input2, 3, 1)\n",
    "\n",
    "q3 = PriorityQueue()\n",
    "q4 = PriorityQueue()\n",
    "q3.put(e1)\n",
    "q3.put(e2)\n",
    "q3.put(e3)\n",
    "q3.put(e4)\n",
    "\n",
    "q4.put(e5)\n",
    "q4.put(e6)\n",
    "q4.put(e7)\n",
    "q4.put(e8)"
   ]
  },
  {
   "cell_type": "code",
   "execution_count": 74,
   "id": "68e4e9ff",
   "metadata": {},
   "outputs": [],
   "source": [
    "Nor_Complex_Output = []\n",
    "while(not(q1.empty() or q2.empty())):\n",
    "    e1 = q1.get()\n",
    "    e2 = q2.get()\n",
    "    e1.net.value = e1.value\n",
    "    e2.net.value = e2.value\n",
    "    e2.net.update(Nor_Gate1)\n",
    "    e3 = q3.get()\n",
    "    e4 = q4.get()\n",
    "    e3.net.value = e3.value\n",
    "    e4.net.value = e4.value\n",
    "    e4.net.update(Nor_Gate2)\n",
    "    Nor_Gate1.output.connect(Nor_Gate1, Nor_Gate3, 1)\n",
    "    Nor_Gate2.output.connect(Nor_Gate2, Nor_Gate3, 2)\n",
    "    Nor_Gate3.output.update(Nor_Gate3)\n",
    "    Nor_Complex_Output.append(Nor_Gate3.output.value)\n"
   ]
  },
  {
   "cell_type": "code",
   "execution_count": 77,
   "id": "5589ea1f",
   "metadata": {},
   "outputs": [
    {
     "data": {
      "text/html": [
       "<div id=\"glowscript\" class=\"glowscript\"></div>"
      ],
      "text/plain": [
       "<IPython.core.display.HTML object>"
      ]
     },
     "metadata": {},
     "output_type": "display_data"
    },
    {
     "data": {
      "application/javascript": [
       "if (typeof Jupyter !== \"undefined\") { window.__context = { glowscript_container: $(\"#glowscript\").removeAttr(\"id\")};}else{ element.textContent = ' ';}"
      ],
      "text/plain": [
       "<IPython.core.display.Javascript object>"
      ]
     },
     "metadata": {},
     "output_type": "display_data"
    }
   ],
   "source": [
    "scene6 = canvas()"
   ]
  },
  {
   "cell_type": "code",
   "execution_count": 78,
   "id": "c4194ace",
   "metadata": {},
   "outputs": [],
   "source": [
    "g13 = graph(title=\"NOR_Gate 1 and 2 input1\", xtitle='time', ytitle='value', width=800)\n",
    "g14 = graph(title=\"NOR_Gate 1 and 2 input2 \", xtitle='time', ytitle='value', width=800)\n",
    "g15 = graph(title=\"NOR_Gate 3 output\", xtitle='time', ytitle='value', width=800)\n",
    "\n",
    "input13_node = gcurve(graph=g13, color=color.red, label='C:input1')\n",
    "input14_node = gcurve(graph=g14, color=color.blue, label='C:input2')\n",
    "input15_node = gcurve(graph=g15, color=color.black, label='C:output')\n",
    "\n",
    "build_graph(input1, input13_node)\n",
    "build_graph(input2, input14_node)\n",
    "build_output_graph(Nor_Complex_Output, input15_node, 2)"
   ]
  },
  {
   "cell_type": "markdown",
   "id": "5d5197a8",
   "metadata": {},
   "source": [
    "In order to verify this, I wrote out the logic combinations, where the result of all combinations of inputs into a nand gate is [1, 1, 1, 0] and a nor gate is [1, 0, 0, 0]. Now, those output values, will have the prior operation performed on it as both input 1 and 2. knowing this we can see that the only time nand is 0 is when both values are 1. That will occur for the first 3 values, meaning the output should be [0, 0, 0, 1]. Nor goes through the same process, where the only output of 1 is when both values are 0. This occurs 3 times, making the output [0, 1, 1, 1]."
   ]
  },
  {
   "cell_type": "markdown",
   "id": "e8a3c562",
   "metadata": {},
   "source": [
    "<h1>Part 5<h1>"
   ]
  },
  {
   "cell_type": "code",
   "execution_count": 79,
   "id": "67661901",
   "metadata": {},
   "outputs": [],
   "source": [
    "Nand_Gate1 = NandGate('nand1', 0, 10)\n",
    "Nand_Gate2 = NandGate('nand2', 1, 10)\n",
    "Nand_Gate3 = NandGate('nand3', 2, 10)\n",
    "Nand_Gate4 = NandGate('nand4', 3, 10)\n",
    "#D\n",
    "e1 = Event(Nand_Gate1.input1, 0, 0)\n",
    "e2 = Event(Nand_Gate1.input1, 1, 1)\n",
    "e3 = Event(Nand_Gate1.input1, 2, 0)\n",
    "e4 = Event(Nand_Gate1.input1, 3, 1)\n",
    "#Clk\n",
    "e5 = Event(Nand_Gate1.input2, 0, 0)\n",
    "e6 = Event(Nand_Gate1.input2, 1, 0)\n",
    "e7 = Event(Nand_Gate1.input2, 2, 1)\n",
    "e8 = Event(Nand_Gate1.input2, 3, 1)\n",
    "\n",
    "q1 = PriorityQueue()\n",
    "q2 = PriorityQueue()\n",
    "q1.put(e1)\n",
    "q1.put(e2)\n",
    "q1.put(e3)\n",
    "q1.put(e4)\n",
    "\n",
    "q2.put(e5)\n",
    "q2.put(e6)\n",
    "q2.put(e7)\n",
    "q2.put(e8)\n",
    "#D\n",
    "e1 = Event(Nand_Gate2.input1, 0, 1)\n",
    "e2 = Event(Nand_Gate2.input1, 1, 0)\n",
    "e3 = Event(Nand_Gate2.input1, 2, 1)\n",
    "e4 = Event(Nand_Gate2.input1, 3, 0)\n",
    "#Clk\n",
    "e5 = Event(Nand_Gate2.input2, 0, 0)\n",
    "e6 = Event(Nand_Gate2.input2, 1, 0)\n",
    "e7 = Event(Nand_Gate2.input2, 2, 1)\n",
    "e8 = Event(Nand_Gate2.input2, 3, 1)\n",
    "\n",
    "q3 = PriorityQueue()\n",
    "q4 = PriorityQueue()\n",
    "q3.put(e1)\n",
    "q3.put(e2)\n",
    "q3.put(e3)\n",
    "q3.put(e4)\n",
    "\n",
    "q4.put(e5)\n",
    "q4.put(e6)\n",
    "q4.put(e7)\n",
    "q4.put(e8)"
   ]
  },
  {
   "cell_type": "code",
   "execution_count": 80,
   "id": "de0ef97f",
   "metadata": {},
   "outputs": [],
   "source": [
    "D_Q_Output = []\n",
    "D_nQ_Output = []\n",
    "while(not(q1.empty() or q2.empty())):\n",
    "    e1 = q1.get()\n",
    "    e2 = q2.get()\n",
    "    e1.net.value = e1.value\n",
    "    e2.net.value = e2.value\n",
    "    e2.net.update(Nand_Gate1)\n",
    "    e3 = q3.get()\n",
    "    e4 = q4.get()\n",
    "    e3.net.value = e3.value\n",
    "    e4.net.value = e4.value\n",
    "    e4.net.update(Nand_Gate2)\n",
    "    Nand_Gate1.output.connect(Nand_Gate1, Nand_Gate3, 1)\n",
    "    Nand_Gate2.output.connect(Nand_Gate2, Nand_Gate4, 1)\n",
    "    Nand_Gate3.output.update(Nand_Gate3)\n",
    "    Nand_Gate4.output.update(Nand_Gate4)\n",
    "    Nand_Gate3.input1.connect(Nand_Gate3, Nand_Gate4, 2)\n",
    "    Nand_Gate4.input1.connect(Nand_Gate4, Nand_Gate3, 2)\n",
    "    Nand_Gate3.output.update(Nand_Gate3)\n",
    "    Nand_Gate4.output.update(Nand_Gate4)\n",
    "    D_Q_Output.append(Nand_Gate3.output.value)\n",
    "    D_nQ_Output.append(Nand_Gate4.output.value)\n"
   ]
  },
  {
   "cell_type": "code",
   "execution_count": 81,
   "id": "f3f7c252",
   "metadata": {
    "scrolled": true
   },
   "outputs": [
    {
     "data": {
      "text/html": [
       "<div id=\"glowscript\" class=\"glowscript\"></div>"
      ],
      "text/plain": [
       "<IPython.core.display.HTML object>"
      ]
     },
     "metadata": {},
     "output_type": "display_data"
    },
    {
     "data": {
      "application/javascript": [
       "if (typeof Jupyter !== \"undefined\") { window.__context = { glowscript_container: $(\"#glowscript\").removeAttr(\"id\")};}else{ element.textContent = ' ';}"
      ],
      "text/plain": [
       "<IPython.core.display.Javascript object>"
      ]
     },
     "metadata": {},
     "output_type": "display_data"
    }
   ],
   "source": [
    "scene7 = canvas()"
   ]
  },
  {
   "cell_type": "code",
   "execution_count": 82,
   "id": "ed03bbfa",
   "metadata": {},
   "outputs": [],
   "source": [
    "g16 = graph(title=\"Clk\", xtitle='time', ytitle='value', width=800)\n",
    "g17 = graph(title=\"D \", xtitle='time', ytitle='value', width=800)\n",
    "g18 = graph(title=\"Q\", xtitle='time', ytitle='value', width=800)\n",
    "g19 = graph(title=\"not Q\", xtitle='time', ytitle='value', width=800)\n",
    "\n",
    "input16_node = gcurve(graph=g16, color=color.red, label='Clk')\n",
    "input17_node = gcurve(graph=g17, color=color.blue, label='D')\n",
    "input18_node = gcurve(graph=g18, color=color.black, label='Q')\n",
    "input19_node = gcurve(graph=g19, color=color.black, label='not Q')\n",
    "\n",
    "build_graph(input1, input16_node)\n",
    "build_graph(input2, input17_node)\n",
    "build_output_graph(D_Q_Output, input18_node, 2)\n",
    "build_output_graph(D_nQ_Output, input19_node, 2)"
   ]
  },
  {
   "cell_type": "markdown",
   "id": "a220461b",
   "metadata": {},
   "source": [
    "<h3>References<h3>"
   ]
  },
  {
   "cell_type": "markdown",
   "id": "563eeb14",
   "metadata": {},
   "source": [
    "http://sagekingthegreat.blogspot.com/2013/09/gated-d-latch.html"
   ]
  },
  {
   "cell_type": "markdown",
   "id": "f597a5a3",
   "metadata": {},
   "source": [
    "<h1>Part 6<h1>"
   ]
  },
  {
   "cell_type": "markdown",
   "id": "edef651f",
   "metadata": {},
   "source": [
    "I did not notice a significant difference in the set up between the sequential circuit and the combinational circuit, other than the need for the entire sequential circuit to have some value as the initial output from the 2nd tier of gates. This is due to the need of an input value is feed back. Further more, if the clock is low on the sequential circuit, the value of the output just stays the same rather than needing to be updated versus in the combinational circuit, all combinational values have a finite result."
   ]
  },
  {
   "cell_type": "code",
   "execution_count": null,
   "id": "cd3a7321",
   "metadata": {},
   "outputs": [],
   "source": []
  }
 ],
 "metadata": {
  "kernelspec": {
   "display_name": "Python 3 (ipykernel)",
   "language": "python",
   "name": "python3"
  },
  "language_info": {
   "codemirror_mode": {
    "name": "ipython",
    "version": 3
   },
   "file_extension": ".py",
   "mimetype": "text/x-python",
   "name": "python",
   "nbconvert_exporter": "python",
   "pygments_lexer": "ipython3",
   "version": "3.9.13"
  }
 },
 "nbformat": 4,
 "nbformat_minor": 5
}
